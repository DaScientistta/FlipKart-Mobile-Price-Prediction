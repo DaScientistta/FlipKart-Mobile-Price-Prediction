{
 "cells": [
  {
   "cell_type": "code",
   "execution_count": 96,
   "id": "434828d9-74af-43ed-bcbb-a4767e80eaeb",
   "metadata": {},
   "outputs": [],
   "source": [
    "import pandas as pd\n",
    "import numpy as np\n",
    "import re\n",
    "from pandasql import sqldf"
   ]
  },
  {
   "cell_type": "code",
   "execution_count": 97,
   "id": "df2144e2-adc1-4381-8d78-9ad2821b3824",
   "metadata": {},
   "outputs": [],
   "source": [
    "df = pd.read_csv('E:/NewDrive/DataScienceProjects/DataSets/Flipkart_dataset/Apple_new.csv')"
   ]
  },
  {
   "cell_type": "code",
   "execution_count": 98,
   "id": "c978b1d1-ed29-46d5-ab9c-0c77ff5c6dee",
   "metadata": {},
   "outputs": [
    {
     "data": {
      "text/plain": [
       "11"
      ]
     },
     "execution_count": 98,
     "metadata": {},
     "output_type": "execute_result"
    }
   ],
   "source": [
    "df.duplicated().sum()"
   ]
  },
  {
   "cell_type": "code",
   "execution_count": 99,
   "id": "e197c3d0-b079-4e19-865c-16e9db6dee08",
   "metadata": {},
   "outputs": [],
   "source": [
    "df_A= df.drop_duplicates()"
   ]
  },
  {
   "cell_type": "code",
   "execution_count": 100,
   "id": "6ef0deb0-3fe4-4aac-adc2-3c3af778e949",
   "metadata": {},
   "outputs": [],
   "source": [
    "pd.options.mode.chained_assignment = None  # default='warn'"
   ]
  },
  {
   "cell_type": "code",
   "execution_count": 101,
   "id": "7bd1390c-ff5f-4739-8b6e-aa03194263fd",
   "metadata": {},
   "outputs": [],
   "source": [
    "df_A['Name']=df_A['Company Name'].str.extract('(APPLE)')"
   ]
  },
  {
   "cell_type": "code",
   "execution_count": 102,
   "id": "d5e1d15f-427c-4c37-b968-f9301cf66286",
   "metadata": {},
   "outputs": [],
   "source": [
    "df_A['test'] = df_A['Company Name'].str.extract('(\\([^)]*\\,)')\n",
    "df_A['test1']=df_A['test'].astype(str)\n",
    "df_A['Color'] = df_A['test1'].apply(lambda x: x.replace('(','').replace(',','').replace('nan','Not Mentioned'))"
   ]
  },
  {
   "cell_type": "code",
   "execution_count": 103,
   "id": "0d9860c1-0926-47e6-b4ff-e9b2276f43b4",
   "metadata": {},
   "outputs": [],
   "source": [
    "df_A['test2'] = df_A['Company Name'].str.split('(').str[0]\n",
    "df_A['Model']= df_A['test2'].str.split().str[1:].str.join(' ')"
   ]
  },
  {
   "cell_type": "code",
   "execution_count": 104,
   "id": "c89259ff-6283-43cc-a913-69207d100ed3",
   "metadata": {},
   "outputs": [],
   "source": [
    "def match(x):\n",
    "    if re.search(\"Ratings\",x):\n",
    "        return x\n",
    "    else:\n",
    "        return \"0\""
   ]
  },
  {
   "cell_type": "code",
   "execution_count": 105,
   "id": "ee451349-e7c7-425c-9218-0763accd6f75",
   "metadata": {},
   "outputs": [],
   "source": [
    "df_A['test3']=df_A['Ratings'].apply(match)\n",
    "df_A['test5']=df_A['test3'].apply(lambda x: x[x.find(\"SAMSUNG\") : x.find(\"Ratings\")])\n",
    "df_A['Ratings(*)']=df_A['test3'].str.extract('(4\\.\\d|3\\.\\d)')"
   ]
  },
  {
   "cell_type": "code",
   "execution_count": 106,
   "id": "ac07da17-a2df-4d9e-bf81-e768ef9c5d91",
   "metadata": {},
   "outputs": [],
   "source": [
    "df_A['test4']=df_A['test3'].apply(lambda x: x[x.find(\"Ratings\") : x.find(\"Reviews\")])\n",
    "df_A['Reviews']=df_A['test4'].apply(lambda x: x.replace('Ratings','').replace('&','').replace(',',''))\n",
    "df_A['Reviews']=df_A['Reviews'].str.strip()"
   ]
  },
  {
   "cell_type": "code",
   "execution_count": 107,
   "id": "8be088b4-02cc-4940-a47f-aaf74e929ebd",
   "metadata": {},
   "outputs": [],
   "source": [
    "def remove_whitespace(s):\n",
    "    return ' '.join(s.split())"
   ]
  },
  {
   "cell_type": "code",
   "execution_count": 108,
   "id": "e9dc2263-1f34-44fb-a453-229a547c75c9",
   "metadata": {},
   "outputs": [],
   "source": [
    "df_A['MobilesSold']=df_A['Reviews'].apply(remove_whitespace)\n",
    "df_A['MobilesSold']=df_A['MobilesSold'].replace('','0')\n",
    "df_A['MobilesSold']=df_A['MobilesSold'].astype(int)"
   ]
  },
  {
   "cell_type": "code",
   "execution_count": 109,
   "id": "96951161-025d-416b-9709-8d44c7b7bc58",
   "metadata": {},
   "outputs": [],
   "source": [
    "df_A['test6']=df_A['Mobile Price'].apply(lambda x: x.replace('%','').replace('offFree','').replace('delivery','').replace('off','').replace('Free delivery','').replace('Free',''))"
   ]
  },
  {
   "cell_type": "code",
   "execution_count": 110,
   "id": "88cf2c51-2e64-4339-8f65-987cb6be2756",
   "metadata": {},
   "outputs": [],
   "source": [
    "df_A['OfferInPerentage'] =df_A['offer'].str.extract('(\\d+)')\n",
    "df_A['OfferInPerentage']=df_A['OfferInPerentage'].fillna(0)\n",
    "df_A['OfferInPerentage']=df_A['OfferInPerentage'].astype(int)"
   ]
  },
  {
   "cell_type": "code",
   "execution_count": 111,
   "id": "b9beb907-8760-4c1f-8f88-5e006e78bf2c",
   "metadata": {},
   "outputs": [],
   "source": [
    "df_A['test7']=df_A['test6'].str.extract('(\\₹[^)]*\\₹)')"
   ]
  },
  {
   "cell_type": "code",
   "execution_count": 112,
   "id": "da8b165e-a027-4e66-9025-50dcd44d884c",
   "metadata": {},
   "outputs": [],
   "source": [
    "df_A['test7'] = np.where(df_A['test7'].isnull(),df_A['test6'],df_A['test7'])"
   ]
  },
  {
   "cell_type": "code",
   "execution_count": 113,
   "id": "8614aad9-2460-45f8-ac4b-d891e2c7fc39",
   "metadata": {},
   "outputs": [],
   "source": [
    "df_A['DiscountedPrice']=df_A['test7'].apply(lambda x:str(x).replace('₹','').replace(',',''))\n",
    "#Replacing NAN Values from Price(with discount) column\n",
    "df_A['DiscountedPrice']=df_A['DiscountedPrice'].replace('nan','0')\n",
    "df_A['DiscountedPrice']=df_A['DiscountedPrice'].astype(int)"
   ]
  },
  {
   "cell_type": "code",
   "execution_count": 114,
   "id": "f16f5ffe-6ff9-48a6-a0f9-6ce18e96f906",
   "metadata": {},
   "outputs": [],
   "source": [
    "df_A['MaxRetailPrice'] = (df_A.DiscountedPrice + ((df_A.OfferInPerentage/100) * df_A.DiscountedPrice))\n",
    "df_A['MaxRetailPrice']=df_A['MaxRetailPrice'].round(0)"
   ]
  },
  {
   "cell_type": "code",
   "execution_count": 115,
   "id": "7a13de91-f24f-40b2-afd4-0a928a1c3c5d",
   "metadata": {},
   "outputs": [],
   "source": [
    "df_A['Sales(₹ CR)']=(df_A.DiscountedPrice * df_A.MobilesSold )/10000000\n",
    "df_A['Sales(₹ CR)']=df_A['Sales(₹ CR)'].round(3)"
   ]
  },
  {
   "cell_type": "code",
   "execution_count": 116,
   "id": "6beed7f4-8109-438b-9214-ffa76b28d296",
   "metadata": {},
   "outputs": [],
   "source": [
    "#df_A = df_A.assign(RAM(GB)=None)\n",
    "df_A['RAM(GB)'] = 0\n",
    "df_A['ROM(GB)']= df_A['Specifications'].str.split('ROM').str[0]\n",
    "df_A['ROM(GB)']=df_A['ROM(GB)'].str.replace('GB','')\n",
    "df_A['ROM(GB)']=df_A['ROM(GB)'].str.strip()"
   ]
  },
  {
   "cell_type": "code",
   "execution_count": 117,
   "id": "840df2fa-00eb-4248-9595-c08f5b57f22d",
   "metadata": {},
   "outputs": [],
   "source": [
    "def case_1(value):\n",
    "  if value[-2:] == 'MB':\n",
    "    return float(value[:-2])/1000\n",
    "  elif value[-2:] == 'TB':\n",
    "    return float(value[:-2])*1000\n",
    "  else:\n",
    "    return value"
   ]
  },
  {
   "cell_type": "code",
   "execution_count": 118,
   "id": "cd728eb6-669f-4a99-98eb-91354388f951",
   "metadata": {},
   "outputs": [],
   "source": [
    "df_A['ROM(GB)']=df_A['ROM(GB)'].map(lambda x: case_1(x))"
   ]
  },
  {
   "cell_type": "code",
   "execution_count": 119,
   "id": "62f59d0c-2efc-4efb-9965-6bb319b77bde",
   "metadata": {},
   "outputs": [],
   "source": [
    "df_A['Display']= df_A['Specifications'].str.extract('\\((.*?)\\)')\n",
    "df_A['Display']=df_A['Display'].str.replace('inch','')"
   ]
  },
  {
   "cell_type": "code",
   "execution_count": 120,
   "id": "c7b62937-fcdc-4447-91f9-97db314e2c4e",
   "metadata": {},
   "outputs": [],
   "source": [
    "df_A['Screen']=df_A['Specifications'].str.extract('(XDR|HD)')\n",
    "df_A['Screen']=df_A['Screen'].fillna(\"Not Mentioned\")"
   ]
  },
  {
   "cell_type": "code",
   "execution_count": 121,
   "id": "aad64916-91e1-4cdf-a837-f604bc3b4f64",
   "metadata": {},
   "outputs": [],
   "source": [
    "df_A['test9']= df_A['Specifications'].apply(lambda x: x[x.find(\"Display\"):x.find(\"Front\")])"
   ]
  },
  {
   "cell_type": "code",
   "execution_count": 122,
   "id": "967832dd-b84b-4db3-b65b-4f22375d01e6",
   "metadata": {},
   "outputs": [],
   "source": [
    "df_A['test10'] = df_A['test9'].apply(lambda x:str(x).replace('Display','').replace('+',''))"
   ]
  },
  {
   "cell_type": "code",
   "execution_count": 123,
   "id": "8890bae4-2354-4079-8f5e-63e049e78ba1",
   "metadata": {},
   "outputs": [],
   "source": [
    "df_A[['Rear Camera','Front Camera']]= df_A['test10'].str.split('|',expand = True)\n",
    "df_A['Rear Camera']= df_A['Rear Camera'].str.replace('Rear Camera','')"
   ]
  },
  {
   "cell_type": "code",
   "execution_count": 124,
   "id": "3d36d320-09f8-4a85-a265-99ef4ac8484d",
   "metadata": {},
   "outputs": [],
   "source": [
    "df_A['No of Rear Camera']= df_A['Rear Camera'].str.count(\"MP\")\n",
    "df_A['No of Front Camera']= df_A['Front Camera'].str.count(\"MP\")"
   ]
  },
  {
   "cell_type": "code",
   "execution_count": 125,
   "id": "811065f3-a3f5-42bb-a80e-98e875f75e22",
   "metadata": {},
   "outputs": [],
   "source": [
    "df_A['Battery']= df_A['Specifications'].str.extract('(\\d{4} mAh)')\n",
    "df_A['Battery']= df_A['Battery'].fillna(\"Not Mentioned\")"
   ]
  },
  {
   "cell_type": "code",
   "execution_count": 126,
   "id": "59f56325-153d-4a8e-b1ea-f684e644330f",
   "metadata": {},
   "outputs": [],
   "source": [
    "df_A['Processor']= df_A['Specifications'].str.extract('(Bionic Chip|6 Core|A8 Chip with 64-bit|A9 64-bit|A8 Chip with 64-bit|A7 64-bit)')\n",
    "df_A['Processor']=df_A['Processor'].str.replace('with','')"
   ]
  },
  {
   "cell_type": "code",
   "execution_count": 127,
   "id": "ffe609de-4eb6-45e9-9a9c-03a14b87c940",
   "metadata": {},
   "outputs": [],
   "source": [
    "# drop all test columns and unwanted columns\n",
    "df_A.drop(columns=['test','test1','test2','test3','test4','test5','test6','test7','test9','test10','Company Name','Ratings','Specifications','Mobile Price','offer'],inplace=True,axis=1)"
   ]
  },
  {
   "cell_type": "code",
   "execution_count": 128,
   "id": "f9c9f165-3f3c-4786-bd7f-df6dbd60cdde",
   "metadata": {},
   "outputs": [],
   "source": [
    "df_A.to_csv('E:/NewDrive/DataScienceProjects/DataSets/Flipkart_dataset/AppleCleaned.csv',index=False)"
   ]
  }
 ],
 "metadata": {
  "kernelspec": {
   "display_name": "Python 3 (ipykernel)",
   "language": "python",
   "name": "python3"
  },
  "language_info": {
   "codemirror_mode": {
    "name": "ipython",
    "version": 3
   },
   "file_extension": ".py",
   "mimetype": "text/x-python",
   "name": "python",
   "nbconvert_exporter": "python",
   "pygments_lexer": "ipython3",
   "version": "3.11.4"
  }
 },
 "nbformat": 4,
 "nbformat_minor": 5
}
