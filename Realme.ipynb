{
 "cells": [
  {
   "cell_type": "code",
   "execution_count": 1,
   "id": "c8f60b3b-2899-4a29-ae61-271cbc5d9081",
   "metadata": {},
   "outputs": [],
   "source": [
    "import pandas as pd\n",
    "import numpy as np\n",
    "import re"
   ]
  },
  {
   "cell_type": "code",
   "execution_count": 2,
   "id": "3c7b832c-f0d3-437f-9e96-07009c38bf37",
   "metadata": {},
   "outputs": [],
   "source": [
    "df = pd.read_csv('E:/NewDrive/DataScienceProjects/DataSets/Flipkart_dataset/RealMe_new.csv')"
   ]
  },
  {
   "cell_type": "code",
   "execution_count": 3,
   "id": "34897a36-220c-4b92-abe2-f07b5fad9693",
   "metadata": {},
   "outputs": [
    {
     "data": {
      "text/plain": [
       "18"
      ]
     },
     "execution_count": 3,
     "metadata": {},
     "output_type": "execute_result"
    }
   ],
   "source": [
    "df.duplicated().sum()"
   ]
  },
  {
   "cell_type": "code",
   "execution_count": 4,
   "id": "e978b25e-480a-4cfd-b3c3-d15d9fd6efee",
   "metadata": {},
   "outputs": [],
   "source": [
    "df_R= df.drop_duplicates()"
   ]
  },
  {
   "cell_type": "code",
   "execution_count": 5,
   "id": "23b52e2b-1401-4700-ae04-2fbf7e6feb1d",
   "metadata": {},
   "outputs": [
    {
     "data": {
      "text/plain": [
       "(209, 5)"
      ]
     },
     "execution_count": 5,
     "metadata": {},
     "output_type": "execute_result"
    }
   ],
   "source": [
    "df_R.shape"
   ]
  },
  {
   "cell_type": "code",
   "execution_count": 6,
   "id": "5c62d656-c4a9-4220-9a98-7aafa77b55e2",
   "metadata": {},
   "outputs": [],
   "source": [
    "pd.options.mode.chained_assignment = None  # default='warn'"
   ]
  },
  {
   "cell_type": "code",
   "execution_count": 7,
   "id": "67302978-9bb7-45b4-a552-7ba26554e75b",
   "metadata": {},
   "outputs": [],
   "source": [
    "df_R['Name']=df_R['Company Name'].str.extract('(realme)')"
   ]
  },
  {
   "cell_type": "code",
   "execution_count": 8,
   "id": "dd92788f-e735-48db-8865-82f9fad16696",
   "metadata": {},
   "outputs": [],
   "source": [
    "df_R['test'] = df_R['Company Name'].str.extract('(\\([^)]*\\,)')\n",
    "df_R['test1']=df_R['test'].astype(str)\n",
    "df_R['Color'] = df_R['test1'].apply(lambda x: x.replace('(','').replace(',','').replace('?',''))"
   ]
  },
  {
   "cell_type": "code",
   "execution_count": 9,
   "id": "39f352bb-9b4e-4b25-85e4-b4587d51af72",
   "metadata": {},
   "outputs": [],
   "source": [
    "df_R['test2'] = df_R['Company Name'].str.split('(').str[0]\n",
    "df_R['Model']= df_R['test2'].str.split().str[1:].str.join(' ')"
   ]
  },
  {
   "cell_type": "code",
   "execution_count": 10,
   "id": "ee944bf8-64a9-4b48-9d4a-616b62acb413",
   "metadata": {},
   "outputs": [],
   "source": [
    "def match(x):\n",
    "    if re.search(\"Ratings\",x):\n",
    "        return x\n",
    "    else:\n",
    "        return \"0\""
   ]
  },
  {
   "cell_type": "code",
   "execution_count": 11,
   "id": "5ea5cd3b-3824-4c71-a9b6-b0112c1c10b5",
   "metadata": {},
   "outputs": [],
   "source": [
    "df_R['test3']=df_R['Ratings'].apply(match)\n",
    "df_R['test5']=df_R['test3'].apply(lambda x: x[x.find(\"SAMSUNG\") : x.find(\"Ratings\")])\n",
    "df_R['Ratings(*)']=df_R['test3'].str.extract('(4\\.\\d|3\\.\\d)')\n",
    "df_R['Ratings(*)']=df_R['Ratings(*)'].fillna(0)"
   ]
  },
  {
   "cell_type": "code",
   "execution_count": 12,
   "id": "e3a833ee-b511-40de-b308-b9b560132191",
   "metadata": {},
   "outputs": [],
   "source": [
    "df_R['test4']=df_R['test3'].apply(lambda x: x[x.find(\"Ratings\") : x.find(\"Reviews\")])\n",
    "df_R['Reviews']=df_R['test4'].apply(lambda x: x.replace('Ratings','').replace('&','').replace(',',''))\n",
    "df_R['Reviews']=df_R['Reviews'].str.strip()"
   ]
  },
  {
   "cell_type": "code",
   "execution_count": 13,
   "id": "32e399f7-10be-427b-bf15-9595aeccbcd2",
   "metadata": {},
   "outputs": [],
   "source": [
    "def remove_whitespace(s):\n",
    "    return ' '.join(s.split())"
   ]
  },
  {
   "cell_type": "code",
   "execution_count": 14,
   "id": "0b22cee4-222e-40b0-9a5e-e0b175000061",
   "metadata": {},
   "outputs": [],
   "source": [
    "df_R['MobilesSold']=df_R['Reviews'].apply(remove_whitespace)\n",
    "df_R['MobilesSold']=df_R['MobilesSold'].replace('','0')\n",
    "df_R['MobilesSold']=df_R['MobilesSold'].astype(int)"
   ]
  },
  {
   "cell_type": "code",
   "execution_count": 15,
   "id": "ec2624da-a96b-4ccf-aee8-86c18662854e",
   "metadata": {},
   "outputs": [],
   "source": [
    "df_R['test6']=df_R['Mobile Price'].apply(lambda x: x.replace('%','').replace('offFree','').replace('delivery','').replace('off','').replace('Free delivery','').replace('Free',''))"
   ]
  },
  {
   "cell_type": "code",
   "execution_count": 16,
   "id": "8d90ec99-bf86-4273-af8f-f3784b3c01aa",
   "metadata": {},
   "outputs": [],
   "source": [
    "df_R['OfferInPerentage'] =df_R['offer'].str.extract('(\\d+)')\n",
    "df_R['OfferInPerentage']=df_R['OfferInPerentage'].fillna(0)\n",
    "df_R['OfferInPerentage']=df_R['OfferInPerentage'].astype(int)"
   ]
  },
  {
   "cell_type": "code",
   "execution_count": 17,
   "id": "48cb8d87-786a-4b4f-ae26-5bebae9fb04f",
   "metadata": {},
   "outputs": [],
   "source": [
    "df_R['test7']=df_R['test6'].str.extract('(\\₹[^)]*\\₹)')"
   ]
  },
  {
   "cell_type": "code",
   "execution_count": 18,
   "id": "ed8eb4b6-cb61-42b8-b8ee-1ecf70fc4633",
   "metadata": {},
   "outputs": [],
   "source": [
    "df_R['test7'] = np.where(df_R['test7'].isnull(),df_R['test6'],df_R['test7'])"
   ]
  },
  {
   "cell_type": "code",
   "execution_count": 19,
   "id": "7b8b9582-7d69-4eac-b4c9-8c2e83ca13a5",
   "metadata": {},
   "outputs": [],
   "source": [
    "df_R['DiscountedPrice']=df_R['test7'].apply(lambda x:str(x).replace('₹','').replace(',',''))\n",
    "#Replacing NAN Values from Price(with discount) column\n",
    "df_R['DiscountedPrice']=df_R['DiscountedPrice'].replace('nan','0')\n",
    "df_R['DiscountedPrice']=df_R['DiscountedPrice'].astype(int)"
   ]
  },
  {
   "cell_type": "code",
   "execution_count": 20,
   "id": "c9adb1ba-69a4-41fd-a1ac-74eb7f6c4eaa",
   "metadata": {},
   "outputs": [],
   "source": [
    "df_R['MaxRetailPrice'] = (df_R.DiscountedPrice + ((df_R.OfferInPerentage/100) * df_R.DiscountedPrice))\n",
    "df_R['MaxRetailPrice']=df_R['MaxRetailPrice'].round(0)"
   ]
  },
  {
   "cell_type": "code",
   "execution_count": 21,
   "id": "26272ec2-77a9-4081-aac7-d763bbc866e4",
   "metadata": {},
   "outputs": [],
   "source": [
    "df_R['Sales(₹ CR)']=(df_R.DiscountedPrice * df_R.MobilesSold )/10000000\n",
    "df_R['Sales(₹ CR)']=df_R['Sales(₹ CR)'].round(3)"
   ]
  },
  {
   "cell_type": "code",
   "execution_count": 22,
   "id": "bd61f267-5dd3-4325-b1cc-e02ef6df2913",
   "metadata": {},
   "outputs": [],
   "source": [
    "df_R['test8']= df_R['Specifications'].str.split('|'and'ROM').str[0]\n",
    "df_R[['RAM(GB)','ROM(GB)']]= df_R['test8'].str.split('|',expand = True) \n",
    "df_R['RAM(GB)']=df_R['RAM(GB)'].apply(lambda x:str(x).replace('GB','').replace('RAM',''))\n",
    "df_R['ROM(GB)']=df_R['ROM(GB)'].str.replace('GB','')"
   ]
  },
  {
   "cell_type": "code",
   "execution_count": 23,
   "id": "9e793a5c-166d-498b-8022-d57c3c84a678",
   "metadata": {},
   "outputs": [],
   "source": [
    "df_R['Display']= df_R['Specifications'].str.extract('\\((.*?)\\)')\n",
    "df_R['Display']=df_R['Display'].str.replace('inch','')"
   ]
  },
  {
   "cell_type": "code",
   "execution_count": 24,
   "id": "18ba35fb-9410-4cdb-9751-08245b3b1bfa",
   "metadata": {},
   "outputs": [],
   "source": [
    "df_R['Screen']=df_R['Specifications'].str.extract('(Quad HD+|HD+|Full HD+ AMOLED|QGVA|AMOLED)')\n",
    "df_R['Screen']=df_R['Screen'].fillna(\"Not Mentioned\")"
   ]
  },
  {
   "cell_type": "code",
   "execution_count": 25,
   "id": "5e91e447-ef14-43e1-8754-9e241f9a2970",
   "metadata": {},
   "outputs": [],
   "source": [
    "df_R['test9']= df_R['Specifications'].apply(lambda x: x[x.find(\"Display\"):x.find(\"Front\")])"
   ]
  },
  {
   "cell_type": "code",
   "execution_count": 26,
   "id": "186046de-5452-4514-9429-940592798d83",
   "metadata": {},
   "outputs": [],
   "source": [
    "df_R['test9']=df_R['test9'].apply(lambda x:x[x.find(\"Display\"):x.find(\"Rear\")])"
   ]
  },
  {
   "cell_type": "code",
   "execution_count": 27,
   "id": "fd93c533-5db5-4f98-a4a1-bed85413b980",
   "metadata": {},
   "outputs": [],
   "source": [
    "df_R['test9'] = df_R['test9'].apply(lambda x:str(x).replace('Display','').replace('+',''))"
   ]
  },
  {
   "cell_type": "code",
   "execution_count": 28,
   "id": "a39e2d60-d852-4710-a194-da92fa05eb77",
   "metadata": {},
   "outputs": [],
   "source": [
    "df_R[['Rear Camera','Front Camera']]= df_R['test9'].str.split('|',expand = True)\n",
    "df_R['Rear Camera']=df_R['Rear Camera'].apply(lambda x: str(x).replace('(OIS)','').replace('Quad Camera',''))"
   ]
  },
  {
   "cell_type": "code",
   "execution_count": 29,
   "id": "c98d0a3d-0c60-4c6b-8ac5-28af91994cf4",
   "metadata": {},
   "outputs": [],
   "source": [
    "df_R['No of Rear Camera']= df_R['Rear Camera'].str.count(\"MP\")\n",
    "df_R['No of Front Camera']= df_R['Front Camera'].str.count(\"MP\")\n",
    "df_R['No of Front Camera']= df_R['No of Front Camera'].fillna(0)"
   ]
  },
  {
   "cell_type": "code",
   "execution_count": 30,
   "id": "ab6c390e-0329-4311-8d44-845001cf875b",
   "metadata": {},
   "outputs": [],
   "source": [
    "df_R['Battery']= df_R['Specifications'].str.extract('(\\d{4} mAh)')\n",
    "df_R['Battery']=df_R['Battery'].fillna(\"Not Mentioned\")\n",
    "df_R['Battery']=df_R['Battery'].apply(lambda x:str(x).replace('mAh',''))"
   ]
  },
  {
   "cell_type": "code",
   "execution_count": 31,
   "id": "ca5209a8-89fc-4e2b-8dfa-8476b8c1cc0c",
   "metadata": {},
   "outputs": [],
   "source": [
    "df_R['Processor']= df_R['Specifications'].str.extract('(Exynos|MediaTek|Mediatek|Snapdragon|SC9863A|Octa Core|Octa-core|208MHz|8 Gen 1|UMS9230|quad core|6100+|7050|T612|Helio|Unisoc|Qualcomm)')\n",
    "df_R['Processor']=df_R['Processor'].fillna(\"Not Mentioned\")"
   ]
  },
  {
   "cell_type": "code",
   "execution_count": 32,
   "id": "ab6052f8-713e-480b-97bf-d363331bf33f",
   "metadata": {},
   "outputs": [],
   "source": [
    "# drop all test columns and unwanted columns\n",
    "df_R.drop(columns=['test','test1','test2','test3','test4','test5','test6','test7','test8','test9','Company Name','Ratings','Specifications','Mobile Price','offer'],inplace=True,axis=1)"
   ]
  },
  {
   "cell_type": "code",
   "execution_count": 33,
   "id": "48e3e1ba-61bc-4c8a-a3d7-57dc2e1e75f2",
   "metadata": {},
   "outputs": [],
   "source": [
    "df_R.to_csv('E:/NewDrive/DataScienceProjects/DataSets/Flipkart_dataset/REALMECleaned.csv',index =False)"
   ]
  },
  {
   "cell_type": "code",
   "execution_count": null,
   "id": "f9f18d83-1b7d-4d7e-b8d6-4086174635ce",
   "metadata": {},
   "outputs": [],
   "source": []
  }
 ],
 "metadata": {
  "kernelspec": {
   "display_name": "Python 3 (ipykernel)",
   "language": "python",
   "name": "python3"
  },
  "language_info": {
   "codemirror_mode": {
    "name": "ipython",
    "version": 3
   },
   "file_extension": ".py",
   "mimetype": "text/x-python",
   "name": "python",
   "nbconvert_exporter": "python",
   "pygments_lexer": "ipython3",
   "version": "3.11.4"
  }
 },
 "nbformat": 4,
 "nbformat_minor": 5
}
