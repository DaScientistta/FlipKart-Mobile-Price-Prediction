{
 "cells": [
  {
   "cell_type": "code",
   "execution_count": 304,
   "id": "a08f8198-d061-48a7-86af-1312ec3a8082",
   "metadata": {},
   "outputs": [],
   "source": [
    "import pandas as pd\n",
    "import numpy as np\n",
    "from sklearn.model_selection import cross_val_score\n",
    "from  sklearn.model_selection import train_test_split\n",
    "from sklearn.metrics import accuracy_score"
   ]
  },
  {
   "cell_type": "code",
   "execution_count": 305,
   "id": "3d8cf0d8-7fc4-4897-879e-c752e55f73a5",
   "metadata": {},
   "outputs": [],
   "source": [
    "from sklearn.linear_model import LinearRegression\n",
    "from sklearn.linear_model import Lasso\n",
    "from sklearn.svm import SVC \n",
    "from sklearn.ensemble import RandomForestClassifier"
   ]
  },
  {
   "cell_type": "code",
   "execution_count": 366,
   "id": "95d055bc-d337-428b-8f1a-3578517123bd",
   "metadata": {},
   "outputs": [],
   "source": [
    "df1=pd.read_csv('E:/NewDrive/DataScienceProjects/DataSets/Flipkart_dataset/VivoCleaned.csv')\n",
    "df2=pd.read_csv('E:/NewDrive/DataScienceProjects/DataSets/Flipkart_dataset/SamsungCleaned.csv')\n",
    "df3=pd.read_csv('E:/NewDrive/DataScienceProjects/DataSets/Flipkart_dataset/AppleCleaned.csv')\n",
    "df4=pd.read_csv('E:/NewDrive/DataScienceProjects/DataSets/Flipkart_dataset/MiCleaned.csv')\n",
    "df5=pd.read_csv('E:/NewDrive/DataScienceProjects/DataSets/Flipkart_dataset/REALMECleaned.csv')\n",
    "df6=pd.read_csv('E:/NewDrive/DataScienceProjects/DataSets/Flipkart_dataset/POCOCleaned.csv')"
   ]
  },
  {
   "cell_type": "code",
   "execution_count": 367,
   "id": "2fb003ef-79d5-416e-9c89-b1e39dff72df",
   "metadata": {},
   "outputs": [
    {
     "data": {
      "text/plain": [
       "(1300, 20)"
      ]
     },
     "execution_count": 367,
     "metadata": {},
     "output_type": "execute_result"
    }
   ],
   "source": [
    "df_Mod=pd.concat([df1,df2,df3,df4,df5,df6])\n",
    "df_Mod.shape"
   ]
  },
  {
   "cell_type": "code",
   "execution_count": 385,
   "id": "d41a9c54-a7ae-4ab0-a872-129b14f472e2",
   "metadata": {},
   "outputs": [],
   "source": [
    "df_Mod['RAM(GB)']=df_Mod['RAM(GB)'].replace('Not Mentioned',np.nan)\n",
    "df_Mod['ROM(GB)']=df_Mod['ROM(GB)'].replace('Not Mentioned',np.nan)\n",
    "df_Mod['RAM(GB)']=df_Mod['RAM(GB)'].fillna(0)\n",
    "df_Mod['ROM(GB)']=df_Mod['ROM(GB)'].fillna(0)\n",
    "df_Mod['RAM(GB)']=df_Mod['RAM(GB)'].astype(float)\n",
    "df_Mod['ROM(GB)']=df_Mod['ROM(GB)'].astype(float)\n",
    "df_Mod['ROM(GB)'].replace(0,df_Mod['ROM(GB)'].mean(axis=0),inplace=True)\n",
    "df_Mod['RAM(GB)'].replace(0,df_Mod['RAM(GB)'].mean(axis=0),inplace=True)"
   ]
  },
  {
   "cell_type": "code",
   "execution_count": 386,
   "id": "669d0acd-3ccd-4fe0-bad1-7a5d421c43f4",
   "metadata": {},
   "outputs": [
    {
     "data": {
      "text/plain": [
       "(1300, 20)"
      ]
     },
     "execution_count": 386,
     "metadata": {},
     "output_type": "execute_result"
    }
   ],
   "source": [
    "df_Mod.to_csv('E:/NewDrive/DataScienceProjects/DataSets/Flipkart_dataset/concat.csv')\n",
    "df_Mod.shape"
   ]
  },
  {
   "cell_type": "code",
   "execution_count": 387,
   "id": "6c4ab405-43d8-4c1f-9797-c7756f9f184c",
   "metadata": {},
   "outputs": [
    {
     "data": {
      "text/plain": [
       "3"
      ]
     },
     "execution_count": 387,
     "metadata": {},
     "output_type": "execute_result"
    }
   ],
   "source": [
    "pd.options.mode.chained_assignment = None  # default='warn'\n",
    "df_Mod.duplicated().sum()"
   ]
  },
  {
   "cell_type": "code",
   "execution_count": 388,
   "id": "5d538c04-c2f6-4b90-96eb-b05091f85da3",
   "metadata": {},
   "outputs": [],
   "source": [
    "df_Mod.drop_duplicates(inplace =True)"
   ]
  },
  {
   "cell_type": "code",
   "execution_count": 389,
   "id": "5d3a0768-204f-41a3-81a5-4c3b7d7ebfab",
   "metadata": {},
   "outputs": [
    {
     "data": {
      "text/plain": [
       "0"
      ]
     },
     "execution_count": 389,
     "metadata": {},
     "output_type": "execute_result"
    }
   ],
   "source": [
    "df_Mod.duplicated().sum()"
   ]
  },
  {
   "cell_type": "code",
   "execution_count": 390,
   "id": "3aa7dc32-92e1-4eb5-9cc2-0ce448c3afcf",
   "metadata": {},
   "outputs": [],
   "source": [
    "df_Mod.rename(columns = {'Sales(₹ CR)':'Sales'}, inplace = True)\n",
    "df_Mod.rename(columns = {'No of Rear Camera':'NoOfFrontCAM'}, inplace = True)\n",
    "df_Mod.rename(columns = {'No of Front Camera':'NoOfRearCAM'}, inplace = True)\n",
    "df_Mod.rename(columns = {'Battery(mAh':'Battery'}, inplace = True)"
   ]
  },
  {
   "cell_type": "code",
   "execution_count": 391,
   "id": "9d4391e4-4559-468c-a6c9-811cc5c03503",
   "metadata": {},
   "outputs": [
    {
     "data": {
      "text/plain": [
       "Index(['Name', 'Color', 'Model', 'Ratings(*)', 'Reviews', 'MobilesSold',\n",
       "       'OfferInPerentage', 'DiscountedPrice', 'MaxRetailPrice', 'Sales',\n",
       "       'RAM(GB)', 'ROM(GB)', 'Display', 'Screen', 'Rear Camera',\n",
       "       'Front Camera', 'NoOfFrontCAM', 'NoOfRearCAM', 'Battery', 'Processor'],\n",
       "      dtype='object')"
      ]
     },
     "execution_count": 391,
     "metadata": {},
     "output_type": "execute_result"
    }
   ],
   "source": [
    "df_Mod.columns"
   ]
  },
  {
   "cell_type": "code",
   "execution_count": 392,
   "id": "21b3ff81-9479-44c3-b0df-9afb1d509d66",
   "metadata": {},
   "outputs": [
    {
     "data": {
      "text/plain": [
       "(1297, 14)"
      ]
     },
     "execution_count": 392,
     "metadata": {},
     "output_type": "execute_result"
    }
   ],
   "source": [
    "df_ModSet= df_Mod[['Name', 'Color','MobilesSold','OfferInPerentage','MaxRetailPrice', 'Sales','RAM(GB)', 'ROM(GB)', 'Display', 'Screen','NoOfFrontCAM', 'NoOfRearCAM', 'Battery', 'Processor']]\n",
    "df_ModSet.shape"
   ]
  },
  {
   "cell_type": "code",
   "execution_count": 393,
   "id": "ef7249fc-7ae6-4f84-a7bd-bd51075d396b",
   "metadata": {
    "scrolled": true
   },
   "outputs": [],
   "source": [
    "df_ModSet['Name']=df_ModSet['Name'].astype(str)\n",
    "df_ModSet['MobilesSold']=df_ModSet['MobilesSold'].astype(int)\n",
    "df_ModSet['MaxRetailPrice']=df_ModSet['MaxRetailPrice'].astype(int)\n",
    "df_ModSet['Sales']=df_ModSet['Sales'].astype(int)\n",
    "df_ModSet['Screen']=df_ModSet['Screen'].astype(str) \n",
    "df_ModSet['NoOfRearCAM']=df_ModSet['NoOfRearCAM'].astype(int)\n",
    "df_ModSet['NoOfFrontCAM']=df_ModSet['NoOfFrontCAM'].astype(int)\n",
    "df_ModSet['Battery']=df_ModSet['Battery'].astype(str)\n",
    "df_ModSet['Processor']=df_ModSet['Processor'].astype(str)"
   ]
  },
  {
   "cell_type": "code",
   "execution_count": 394,
   "id": "f3b5190d-d69a-4f8b-8c19-08dc2e4b7541",
   "metadata": {},
   "outputs": [
    {
     "data": {
      "text/plain": [
       "(1297, 14)"
      ]
     },
     "execution_count": 394,
     "metadata": {},
     "output_type": "execute_result"
    }
   ],
   "source": [
    "df_ModSet.shape"
   ]
  },
  {
   "cell_type": "code",
   "execution_count": 395,
   "id": "9995755f-bfa2-40a5-afb5-dd9324e98529",
   "metadata": {},
   "outputs": [],
   "source": [
    "Name_Dummy=pd.get_dummies(df_ModSet['Name'], prefix='', prefix_sep='', dummy_na=False,dtype=int)\n",
    "Color_Dummy=pd.get_dummies(df_ModSet['Color'], prefix='', prefix_sep='', dummy_na=False,dtype=int)\n",
    "Battery_Dummy=pd.get_dummies(df_ModSet['Battery'], prefix='', prefix_sep='', dummy_na=False,dtype=int)\n",
    "Screen_Dummy=pd.get_dummies(df_ModSet['Screen'], prefix='', prefix_sep='', dummy_na=False,dtype=int)\n",
    "Pro_Dummy=pd.get_dummies(df_ModSet['Processor'], prefix='', prefix_sep='', dummy_na=False,dtype=int)"
   ]
  },
  {
   "cell_type": "code",
   "execution_count": 396,
   "id": "57ae9fab-2ab3-48fc-8d7d-89b761005077",
   "metadata": {},
   "outputs": [],
   "source": [
    "df_Merged=pd.concat([df_ModSet,Name_Dummy,Color_Dummy,Battery_Dummy,Screen_Dummy,Pro_Dummy], axis=1)"
   ]
  },
  {
   "cell_type": "code",
   "execution_count": 397,
   "id": "c97e67a6-3e93-45ff-9b0b-f566e72770cf",
   "metadata": {},
   "outputs": [],
   "source": [
    "# drop all categorical columns\n",
    "df_Merged.drop(columns=['Name','Color','Battery','Screen','Processor','Mi'],inplace=True,axis=1)"
   ]
  },
  {
   "cell_type": "code",
   "execution_count": 402,
   "id": "1353a14c-185a-47be-b420-f13e87b0f6f0",
   "metadata": {},
   "outputs": [],
   "source": [
    "df_Merged.to_csv('E:/NewDrive/DataScienceProjects/DataSets/Flipkart_dataset/concat.csv')"
   ]
  },
  {
   "cell_type": "code",
   "execution_count": 399,
   "id": "195e0ea5-8424-4bb1-83c1-424db0164fed",
   "metadata": {},
   "outputs": [],
   "source": [
    "x= df_Merged.drop('Sales',axis=1)\n",
    "y=df_Merged['Sales']"
   ]
  },
  {
   "cell_type": "code",
   "execution_count": 400,
   "id": "292d3ffe-018b-4305-9d6f-8a3082e296e4",
   "metadata": {},
   "outputs": [],
   "source": [
    "x_train, x_test, y_train, y_test = train_test_split( x, y, test_size=0.2, random_state=10)"
   ]
  },
  {
   "cell_type": "code",
   "execution_count": 403,
   "id": "b776208a-8321-49b4-8bf6-489ec0c5e8a1",
   "metadata": {},
   "outputs": [
    {
     "data": {
      "text/html": [
       "<style>#sk-container-id-8 {color: black;}#sk-container-id-8 pre{padding: 0;}#sk-container-id-8 div.sk-toggleable {background-color: white;}#sk-container-id-8 label.sk-toggleable__label {cursor: pointer;display: block;width: 100%;margin-bottom: 0;padding: 0.3em;box-sizing: border-box;text-align: center;}#sk-container-id-8 label.sk-toggleable__label-arrow:before {content: \"▸\";float: left;margin-right: 0.25em;color: #696969;}#sk-container-id-8 label.sk-toggleable__label-arrow:hover:before {color: black;}#sk-container-id-8 div.sk-estimator:hover label.sk-toggleable__label-arrow:before {color: black;}#sk-container-id-8 div.sk-toggleable__content {max-height: 0;max-width: 0;overflow: hidden;text-align: left;background-color: #f0f8ff;}#sk-container-id-8 div.sk-toggleable__content pre {margin: 0.2em;color: black;border-radius: 0.25em;background-color: #f0f8ff;}#sk-container-id-8 input.sk-toggleable__control:checked~div.sk-toggleable__content {max-height: 200px;max-width: 100%;overflow: auto;}#sk-container-id-8 input.sk-toggleable__control:checked~label.sk-toggleable__label-arrow:before {content: \"▾\";}#sk-container-id-8 div.sk-estimator input.sk-toggleable__control:checked~label.sk-toggleable__label {background-color: #d4ebff;}#sk-container-id-8 div.sk-label input.sk-toggleable__control:checked~label.sk-toggleable__label {background-color: #d4ebff;}#sk-container-id-8 input.sk-hidden--visually {border: 0;clip: rect(1px 1px 1px 1px);clip: rect(1px, 1px, 1px, 1px);height: 1px;margin: -1px;overflow: hidden;padding: 0;position: absolute;width: 1px;}#sk-container-id-8 div.sk-estimator {font-family: monospace;background-color: #f0f8ff;border: 1px dotted black;border-radius: 0.25em;box-sizing: border-box;margin-bottom: 0.5em;}#sk-container-id-8 div.sk-estimator:hover {background-color: #d4ebff;}#sk-container-id-8 div.sk-parallel-item::after {content: \"\";width: 100%;border-bottom: 1px solid gray;flex-grow: 1;}#sk-container-id-8 div.sk-label:hover label.sk-toggleable__label {background-color: #d4ebff;}#sk-container-id-8 div.sk-serial::before {content: \"\";position: absolute;border-left: 1px solid gray;box-sizing: border-box;top: 0;bottom: 0;left: 50%;z-index: 0;}#sk-container-id-8 div.sk-serial {display: flex;flex-direction: column;align-items: center;background-color: white;padding-right: 0.2em;padding-left: 0.2em;position: relative;}#sk-container-id-8 div.sk-item {position: relative;z-index: 1;}#sk-container-id-8 div.sk-parallel {display: flex;align-items: stretch;justify-content: center;background-color: white;position: relative;}#sk-container-id-8 div.sk-item::before, #sk-container-id-8 div.sk-parallel-item::before {content: \"\";position: absolute;border-left: 1px solid gray;box-sizing: border-box;top: 0;bottom: 0;left: 50%;z-index: -1;}#sk-container-id-8 div.sk-parallel-item {display: flex;flex-direction: column;z-index: 1;position: relative;background-color: white;}#sk-container-id-8 div.sk-parallel-item:first-child::after {align-self: flex-end;width: 50%;}#sk-container-id-8 div.sk-parallel-item:last-child::after {align-self: flex-start;width: 50%;}#sk-container-id-8 div.sk-parallel-item:only-child::after {width: 0;}#sk-container-id-8 div.sk-dashed-wrapped {border: 1px dashed gray;margin: 0 0.4em 0.5em 0.4em;box-sizing: border-box;padding-bottom: 0.4em;background-color: white;}#sk-container-id-8 div.sk-label label {font-family: monospace;font-weight: bold;display: inline-block;line-height: 1.2em;}#sk-container-id-8 div.sk-label-container {text-align: center;}#sk-container-id-8 div.sk-container {/* jupyter's `normalize.less` sets `[hidden] { display: none; }` but bootstrap.min.css set `[hidden] { display: none !important; }` so we also need the `!important` here to be able to override the default hidden behavior on the sphinx rendered scikit-learn.org. See: https://github.com/scikit-learn/scikit-learn/issues/21755 */display: inline-block !important;position: relative;}#sk-container-id-8 div.sk-text-repr-fallback {display: none;}</style><div id=\"sk-container-id-8\" class=\"sk-top-container\"><div class=\"sk-text-repr-fallback\"><pre>LinearRegression()</pre><b>In a Jupyter environment, please rerun this cell to show the HTML representation or trust the notebook. <br />On GitHub, the HTML representation is unable to render, please try loading this page with nbviewer.org.</b></div><div class=\"sk-container\" hidden><div class=\"sk-item\"><div class=\"sk-estimator sk-toggleable\"><input class=\"sk-toggleable__control sk-hidden--visually\" id=\"sk-estimator-id-8\" type=\"checkbox\" checked><label for=\"sk-estimator-id-8\" class=\"sk-toggleable__label sk-toggleable__label-arrow\">LinearRegression</label><div class=\"sk-toggleable__content\"><pre>LinearRegression()</pre></div></div></div></div></div>"
      ],
      "text/plain": [
       "LinearRegression()"
      ]
     },
     "execution_count": 403,
     "metadata": {},
     "output_type": "execute_result"
    }
   ],
   "source": [
    "lr= LinearRegression()\n",
    "lr.fit(x_train,y_train)"
   ]
  },
  {
   "cell_type": "code",
   "execution_count": 418,
   "id": "5edd2722-bd06-48f5-bc56-3457d9649c93",
   "metadata": {},
   "outputs": [
    {
     "data": {
      "text/plain": [
       "0.6154630370934344"
      ]
     },
     "execution_count": 418,
     "metadata": {},
     "output_type": "execute_result"
    }
   ],
   "source": [
    "lr.score(x_test,y_test)"
   ]
  },
  {
   "cell_type": "code",
   "execution_count": 405,
   "id": "bb0c74e9-4891-4c43-9043-f1d58969e430",
   "metadata": {},
   "outputs": [
    {
     "data": {
      "text/html": [
       "<style>#sk-container-id-9 {color: black;}#sk-container-id-9 pre{padding: 0;}#sk-container-id-9 div.sk-toggleable {background-color: white;}#sk-container-id-9 label.sk-toggleable__label {cursor: pointer;display: block;width: 100%;margin-bottom: 0;padding: 0.3em;box-sizing: border-box;text-align: center;}#sk-container-id-9 label.sk-toggleable__label-arrow:before {content: \"▸\";float: left;margin-right: 0.25em;color: #696969;}#sk-container-id-9 label.sk-toggleable__label-arrow:hover:before {color: black;}#sk-container-id-9 div.sk-estimator:hover label.sk-toggleable__label-arrow:before {color: black;}#sk-container-id-9 div.sk-toggleable__content {max-height: 0;max-width: 0;overflow: hidden;text-align: left;background-color: #f0f8ff;}#sk-container-id-9 div.sk-toggleable__content pre {margin: 0.2em;color: black;border-radius: 0.25em;background-color: #f0f8ff;}#sk-container-id-9 input.sk-toggleable__control:checked~div.sk-toggleable__content {max-height: 200px;max-width: 100%;overflow: auto;}#sk-container-id-9 input.sk-toggleable__control:checked~label.sk-toggleable__label-arrow:before {content: \"▾\";}#sk-container-id-9 div.sk-estimator input.sk-toggleable__control:checked~label.sk-toggleable__label {background-color: #d4ebff;}#sk-container-id-9 div.sk-label input.sk-toggleable__control:checked~label.sk-toggleable__label {background-color: #d4ebff;}#sk-container-id-9 input.sk-hidden--visually {border: 0;clip: rect(1px 1px 1px 1px);clip: rect(1px, 1px, 1px, 1px);height: 1px;margin: -1px;overflow: hidden;padding: 0;position: absolute;width: 1px;}#sk-container-id-9 div.sk-estimator {font-family: monospace;background-color: #f0f8ff;border: 1px dotted black;border-radius: 0.25em;box-sizing: border-box;margin-bottom: 0.5em;}#sk-container-id-9 div.sk-estimator:hover {background-color: #d4ebff;}#sk-container-id-9 div.sk-parallel-item::after {content: \"\";width: 100%;border-bottom: 1px solid gray;flex-grow: 1;}#sk-container-id-9 div.sk-label:hover label.sk-toggleable__label {background-color: #d4ebff;}#sk-container-id-9 div.sk-serial::before {content: \"\";position: absolute;border-left: 1px solid gray;box-sizing: border-box;top: 0;bottom: 0;left: 50%;z-index: 0;}#sk-container-id-9 div.sk-serial {display: flex;flex-direction: column;align-items: center;background-color: white;padding-right: 0.2em;padding-left: 0.2em;position: relative;}#sk-container-id-9 div.sk-item {position: relative;z-index: 1;}#sk-container-id-9 div.sk-parallel {display: flex;align-items: stretch;justify-content: center;background-color: white;position: relative;}#sk-container-id-9 div.sk-item::before, #sk-container-id-9 div.sk-parallel-item::before {content: \"\";position: absolute;border-left: 1px solid gray;box-sizing: border-box;top: 0;bottom: 0;left: 50%;z-index: -1;}#sk-container-id-9 div.sk-parallel-item {display: flex;flex-direction: column;z-index: 1;position: relative;background-color: white;}#sk-container-id-9 div.sk-parallel-item:first-child::after {align-self: flex-end;width: 50%;}#sk-container-id-9 div.sk-parallel-item:last-child::after {align-self: flex-start;width: 50%;}#sk-container-id-9 div.sk-parallel-item:only-child::after {width: 0;}#sk-container-id-9 div.sk-dashed-wrapped {border: 1px dashed gray;margin: 0 0.4em 0.5em 0.4em;box-sizing: border-box;padding-bottom: 0.4em;background-color: white;}#sk-container-id-9 div.sk-label label {font-family: monospace;font-weight: bold;display: inline-block;line-height: 1.2em;}#sk-container-id-9 div.sk-label-container {text-align: center;}#sk-container-id-9 div.sk-container {/* jupyter's `normalize.less` sets `[hidden] { display: none; }` but bootstrap.min.css set `[hidden] { display: none !important; }` so we also need the `!important` here to be able to override the default hidden behavior on the sphinx rendered scikit-learn.org. See: https://github.com/scikit-learn/scikit-learn/issues/21755 */display: inline-block !important;position: relative;}#sk-container-id-9 div.sk-text-repr-fallback {display: none;}</style><div id=\"sk-container-id-9\" class=\"sk-top-container\"><div class=\"sk-text-repr-fallback\"><pre>Lasso()</pre><b>In a Jupyter environment, please rerun this cell to show the HTML representation or trust the notebook. <br />On GitHub, the HTML representation is unable to render, please try loading this page with nbviewer.org.</b></div><div class=\"sk-container\" hidden><div class=\"sk-item\"><div class=\"sk-estimator sk-toggleable\"><input class=\"sk-toggleable__control sk-hidden--visually\" id=\"sk-estimator-id-9\" type=\"checkbox\" checked><label for=\"sk-estimator-id-9\" class=\"sk-toggleable__label sk-toggleable__label-arrow\">Lasso</label><div class=\"sk-toggleable__content\"><pre>Lasso()</pre></div></div></div></div></div>"
      ],
      "text/plain": [
       "Lasso()"
      ]
     },
     "execution_count": 405,
     "metadata": {},
     "output_type": "execute_result"
    }
   ],
   "source": [
    "la = Lasso()\n",
    "la.fit(x_train,y_train)"
   ]
  },
  {
   "cell_type": "code",
   "execution_count": 406,
   "id": "7a6bf97c-64cd-4599-a604-06cfee75e7fb",
   "metadata": {},
   "outputs": [
    {
     "data": {
      "text/plain": [
       "0.738689537939806"
      ]
     },
     "execution_count": 406,
     "metadata": {},
     "output_type": "execute_result"
    }
   ],
   "source": [
    "la.score(x_test,y_test)"
   ]
  },
  {
   "cell_type": "code",
   "execution_count": 407,
   "id": "f4f8a937-5155-498c-8944-3be76cfaba69",
   "metadata": {},
   "outputs": [
    {
     "data": {
      "text/html": [
       "<style>#sk-container-id-10 {color: black;}#sk-container-id-10 pre{padding: 0;}#sk-container-id-10 div.sk-toggleable {background-color: white;}#sk-container-id-10 label.sk-toggleable__label {cursor: pointer;display: block;width: 100%;margin-bottom: 0;padding: 0.3em;box-sizing: border-box;text-align: center;}#sk-container-id-10 label.sk-toggleable__label-arrow:before {content: \"▸\";float: left;margin-right: 0.25em;color: #696969;}#sk-container-id-10 label.sk-toggleable__label-arrow:hover:before {color: black;}#sk-container-id-10 div.sk-estimator:hover label.sk-toggleable__label-arrow:before {color: black;}#sk-container-id-10 div.sk-toggleable__content {max-height: 0;max-width: 0;overflow: hidden;text-align: left;background-color: #f0f8ff;}#sk-container-id-10 div.sk-toggleable__content pre {margin: 0.2em;color: black;border-radius: 0.25em;background-color: #f0f8ff;}#sk-container-id-10 input.sk-toggleable__control:checked~div.sk-toggleable__content {max-height: 200px;max-width: 100%;overflow: auto;}#sk-container-id-10 input.sk-toggleable__control:checked~label.sk-toggleable__label-arrow:before {content: \"▾\";}#sk-container-id-10 div.sk-estimator input.sk-toggleable__control:checked~label.sk-toggleable__label {background-color: #d4ebff;}#sk-container-id-10 div.sk-label input.sk-toggleable__control:checked~label.sk-toggleable__label {background-color: #d4ebff;}#sk-container-id-10 input.sk-hidden--visually {border: 0;clip: rect(1px 1px 1px 1px);clip: rect(1px, 1px, 1px, 1px);height: 1px;margin: -1px;overflow: hidden;padding: 0;position: absolute;width: 1px;}#sk-container-id-10 div.sk-estimator {font-family: monospace;background-color: #f0f8ff;border: 1px dotted black;border-radius: 0.25em;box-sizing: border-box;margin-bottom: 0.5em;}#sk-container-id-10 div.sk-estimator:hover {background-color: #d4ebff;}#sk-container-id-10 div.sk-parallel-item::after {content: \"\";width: 100%;border-bottom: 1px solid gray;flex-grow: 1;}#sk-container-id-10 div.sk-label:hover label.sk-toggleable__label {background-color: #d4ebff;}#sk-container-id-10 div.sk-serial::before {content: \"\";position: absolute;border-left: 1px solid gray;box-sizing: border-box;top: 0;bottom: 0;left: 50%;z-index: 0;}#sk-container-id-10 div.sk-serial {display: flex;flex-direction: column;align-items: center;background-color: white;padding-right: 0.2em;padding-left: 0.2em;position: relative;}#sk-container-id-10 div.sk-item {position: relative;z-index: 1;}#sk-container-id-10 div.sk-parallel {display: flex;align-items: stretch;justify-content: center;background-color: white;position: relative;}#sk-container-id-10 div.sk-item::before, #sk-container-id-10 div.sk-parallel-item::before {content: \"\";position: absolute;border-left: 1px solid gray;box-sizing: border-box;top: 0;bottom: 0;left: 50%;z-index: -1;}#sk-container-id-10 div.sk-parallel-item {display: flex;flex-direction: column;z-index: 1;position: relative;background-color: white;}#sk-container-id-10 div.sk-parallel-item:first-child::after {align-self: flex-end;width: 50%;}#sk-container-id-10 div.sk-parallel-item:last-child::after {align-self: flex-start;width: 50%;}#sk-container-id-10 div.sk-parallel-item:only-child::after {width: 0;}#sk-container-id-10 div.sk-dashed-wrapped {border: 1px dashed gray;margin: 0 0.4em 0.5em 0.4em;box-sizing: border-box;padding-bottom: 0.4em;background-color: white;}#sk-container-id-10 div.sk-label label {font-family: monospace;font-weight: bold;display: inline-block;line-height: 1.2em;}#sk-container-id-10 div.sk-label-container {text-align: center;}#sk-container-id-10 div.sk-container {/* jupyter's `normalize.less` sets `[hidden] { display: none; }` but bootstrap.min.css set `[hidden] { display: none !important; }` so we also need the `!important` here to be able to override the default hidden behavior on the sphinx rendered scikit-learn.org. See: https://github.com/scikit-learn/scikit-learn/issues/21755 */display: inline-block !important;position: relative;}#sk-container-id-10 div.sk-text-repr-fallback {display: none;}</style><div id=\"sk-container-id-10\" class=\"sk-top-container\"><div class=\"sk-text-repr-fallback\"><pre>RandomForestClassifier()</pre><b>In a Jupyter environment, please rerun this cell to show the HTML representation or trust the notebook. <br />On GitHub, the HTML representation is unable to render, please try loading this page with nbviewer.org.</b></div><div class=\"sk-container\" hidden><div class=\"sk-item\"><div class=\"sk-estimator sk-toggleable\"><input class=\"sk-toggleable__control sk-hidden--visually\" id=\"sk-estimator-id-10\" type=\"checkbox\" checked><label for=\"sk-estimator-id-10\" class=\"sk-toggleable__label sk-toggleable__label-arrow\">RandomForestClassifier</label><div class=\"sk-toggleable__content\"><pre>RandomForestClassifier()</pre></div></div></div></div></div>"
      ],
      "text/plain": [
       "RandomForestClassifier()"
      ]
     },
     "execution_count": 407,
     "metadata": {},
     "output_type": "execute_result"
    }
   ],
   "source": [
    "rf = RandomForestClassifier()\n",
    "rf.fit(x_train,y_train)"
   ]
  },
  {
   "cell_type": "code",
   "execution_count": 408,
   "id": "06aca962-a7a1-4869-875d-f00caf331ab6",
   "metadata": {},
   "outputs": [
    {
     "data": {
      "text/plain": [
       "0.7576923076923077"
      ]
     },
     "execution_count": 408,
     "metadata": {},
     "output_type": "execute_result"
    }
   ],
   "source": [
    "rf.score(x_test,y_test)"
   ]
  },
  {
   "cell_type": "code",
   "execution_count": 478,
   "id": "eef8c3b6-c0c6-48e4-abd2-730e45c2eb5f",
   "metadata": {},
   "outputs": [],
   "source": [
    "def predict_price(Name,Processor,Screen,MaxRetailPrice,NoOfRearCAM,NoOfFrontCAM,Battery):\n",
    "    nm=np.where(x.columns==Name)[0][0]\n",
    "    pr=np.where(x.columns==Processor)[0][0]\n",
    "    sr=np.where(x.columns==Screen)[0][0]\n",
    "    a=np.zeros(len(x.columns))\n",
    "    a[0]=MaxRetailPrice\n",
    "    a[1]=NoOfFrontCAM\n",
    "    a[2]=NoOfRearCAM\n",
    "    a[3]=Battery\n",
    "    if nm>=0:\n",
    "        a[nm]=1\n",
    "    elif pr>=0:\n",
    "        a[pr]=1\n",
    "    elif sr>=0:\n",
    "        a[sr]=1\n",
    "    return la.predict([a])[0]"
   ]
  },
  {
   "cell_type": "code",
   "execution_count": 497,
   "id": "8d2b84a3-f965-4a00-9624-a0c227b8bdc6",
   "metadata": {},
   "outputs": [
    {
     "name": "stderr",
     "output_type": "stream",
     "text": [
      "C:\\Users\\Admin\\AppData\\Roaming\\Python\\Python311\\site-packages\\sklearn\\base.py:464: UserWarning: X does not have valid feature names, but Lasso was fitted with feature names\n",
      "  warnings.warn(\n"
     ]
    },
    {
     "data": {
      "text/plain": [
       "43.7876"
      ]
     },
     "execution_count": 497,
     "metadata": {},
     "output_type": "execute_result"
    }
   ],
   "source": [
    "predict_price('vivo','Snapdragon','HD',50000,6,7,5000).round(4)"
   ]
  },
  {
   "cell_type": "code",
   "execution_count": null,
   "id": "c13391fd-72d1-4a54-bef4-f64c830b769d",
   "metadata": {},
   "outputs": [],
   "source": []
  },
  {
   "cell_type": "code",
   "execution_count": null,
   "id": "24979bbb-3263-4bb7-b4bb-f6454061d0e1",
   "metadata": {},
   "outputs": [],
   "source": []
  },
  {
   "cell_type": "code",
   "execution_count": 128,
   "id": "880115a7-acfd-4230-946f-98712b630b67",
   "metadata": {},
   "outputs": [],
   "source": []
  },
  {
   "cell_type": "code",
   "execution_count": 129,
   "id": "8102234d-d09b-4749-96bc-9b9289bc5569",
   "metadata": {},
   "outputs": [],
   "source": []
  },
  {
   "cell_type": "code",
   "execution_count": 93,
   "id": "ea140d3d-c1bc-4f73-b5c7-aab9423a7a45",
   "metadata": {},
   "outputs": [],
   "source": []
  }
 ],
 "metadata": {
  "kernelspec": {
   "display_name": "Python 3 (ipykernel)",
   "language": "python",
   "name": "python3"
  },
  "language_info": {
   "codemirror_mode": {
    "name": "ipython",
    "version": 3
   },
   "file_extension": ".py",
   "mimetype": "text/x-python",
   "name": "python",
   "nbconvert_exporter": "python",
   "pygments_lexer": "ipython3",
   "version": "3.11.4"
  }
 },
 "nbformat": 4,
 "nbformat_minor": 5
}
