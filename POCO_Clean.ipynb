{
 "cells": [
  {
   "cell_type": "code",
   "execution_count": 1,
   "id": "03b0da32-b891-43c9-a5a2-c70432d95a40",
   "metadata": {},
   "outputs": [],
   "source": [
    "import pandas as pd\n",
    "import numpy as np\n",
    "import re"
   ]
  },
  {
   "cell_type": "code",
   "execution_count": 2,
   "id": "791620cb-0d48-4c7a-b4d4-06066584f46b",
   "metadata": {},
   "outputs": [],
   "source": [
    "df = pd.read_csv('E:/NewDrive/DataScienceProjects/DataSets/Flipkart_dataset/Poco_new.csv')"
   ]
  },
  {
   "cell_type": "code",
   "execution_count": 3,
   "id": "3593b533-fd28-4165-92f3-29807ef64c21",
   "metadata": {},
   "outputs": [
    {
     "data": {
      "text/plain": [
       "4"
      ]
     },
     "execution_count": 3,
     "metadata": {},
     "output_type": "execute_result"
    }
   ],
   "source": [
    "df.duplicated().sum()"
   ]
  },
  {
   "cell_type": "code",
   "execution_count": 4,
   "id": "fbf60c87-5831-44a0-aa1d-ae4e177e100d",
   "metadata": {},
   "outputs": [],
   "source": [
    "df_P= df.drop_duplicates()"
   ]
  },
  {
   "cell_type": "code",
   "execution_count": 5,
   "id": "397f3f02-5346-4a8c-9a35-ec0c51e4dfcc",
   "metadata": {},
   "outputs": [],
   "source": [
    "pd.options.mode.chained_assignment = None  # default='warn'"
   ]
  },
  {
   "cell_type": "code",
   "execution_count": 6,
   "id": "761fc698-05db-4400-8435-8fcee7aef973",
   "metadata": {},
   "outputs": [],
   "source": [
    "df_P['Name']=df_P['Company Name'].str.extract('(POCO)')"
   ]
  },
  {
   "cell_type": "code",
   "execution_count": 7,
   "id": "54c07771-89f6-4f78-bbb1-9c68ff02a853",
   "metadata": {},
   "outputs": [],
   "source": [
    "df_P['test'] = df_P['Company Name'].str.extract('(\\([^)]*\\,)')\n",
    "df_P['test1']=df_P['test'].astype(str)\n",
    "df_P['Color'] = df_P['test1'].apply(lambda x: x.replace('(','').replace(',',''))"
   ]
  },
  {
   "cell_type": "code",
   "execution_count": 8,
   "id": "bf3563d1-d6ac-49e7-8ee5-5798dc353c3e",
   "metadata": {},
   "outputs": [],
   "source": [
    "df_P['test2'] = df_P['Company Name'].str.split('(').str[0]\n",
    "df_P['Model']= df_P['test2'].str.split().str[1:].str.join(' ')"
   ]
  },
  {
   "cell_type": "code",
   "execution_count": 9,
   "id": "e54531d9-ebe4-4518-8a32-059c91685633",
   "metadata": {},
   "outputs": [],
   "source": [
    "def match(x):\n",
    "    if re.search(\"Ratings\",x):\n",
    "        return x\n",
    "    else:\n",
    "        return \"0\""
   ]
  },
  {
   "cell_type": "code",
   "execution_count": 10,
   "id": "8f542408-a74e-4d76-b458-f3217aa7c0bd",
   "metadata": {},
   "outputs": [],
   "source": [
    "df_P['test3']=df_P['Ratings'].apply(match)\n",
    "df_P['test5']=df_P['test3'].apply(lambda x: x[x.find(\"SAMSUNG\") : x.find(\"Ratings\")])\n",
    "df_P['Ratings(*)']=df_P['test3'].str.extract('(4\\.\\d|3\\.\\d)')\n",
    "df_P['Ratings(*)']=df_P['Ratings(*)'].fillna(0)"
   ]
  },
  {
   "cell_type": "code",
   "execution_count": 11,
   "id": "b1ea51ad-2cd6-417f-82ac-d430333ad30c",
   "metadata": {},
   "outputs": [],
   "source": [
    "df_P['test4']=df_P['test3'].apply(lambda x: x[x.find(\"Ratings\") : x.find(\"Reviews\")])\n",
    "df_P['Reviews']=df_P['test4'].apply(lambda x: x.replace('Ratings','').replace('&','').replace(',',''))\n",
    "df_P['Reviews']=df_P['Reviews'].str.strip()"
   ]
  },
  {
   "cell_type": "code",
   "execution_count": 12,
   "id": "d38b411d-fc78-4996-a59d-1c0fc322dd9d",
   "metadata": {},
   "outputs": [],
   "source": [
    "def remove_whitespace(s):\n",
    "    return ' '.join(s.split())"
   ]
  },
  {
   "cell_type": "code",
   "execution_count": 13,
   "id": "2ae31625-cc7f-4f4d-bfab-ad0873cf1829",
   "metadata": {},
   "outputs": [],
   "source": [
    "df_P['MobilesSold']=df_P['Reviews'].apply(remove_whitespace)\n",
    "df_P['MobilesSold']=df_P['MobilesSold'].replace('','0')\n",
    "df_P['MobilesSold']=df_P['MobilesSold'].astype(int)"
   ]
  },
  {
   "cell_type": "code",
   "execution_count": 14,
   "id": "f07bf9f6-224a-4ef8-b368-7073a93082fd",
   "metadata": {},
   "outputs": [],
   "source": [
    "df_P['test6']=df_P['Mobile Price'].apply(lambda x: x.replace('%','').replace('offFree','').replace('delivery','').replace('off','').replace('Free delivery','').replace('Free',''))"
   ]
  },
  {
   "cell_type": "code",
   "execution_count": 15,
   "id": "cda82fd8-43eb-4cc5-b502-9b75b153de84",
   "metadata": {},
   "outputs": [],
   "source": [
    "df_P['OfferInPerentage'] =df_P['offer'].str.extract('(\\d+)')\n",
    "df_P['OfferInPerentage']=df_P['OfferInPerentage'].fillna(0)\n",
    "df_P['OfferInPerentage']=df_P['OfferInPerentage'].astype(int)"
   ]
  },
  {
   "cell_type": "code",
   "execution_count": 16,
   "id": "2569c68f-eba2-45e4-95d5-a2a4cda5e499",
   "metadata": {},
   "outputs": [],
   "source": [
    "df_P['test7']=df_P['test6'].str.extract('(\\₹[^)]*\\₹)')"
   ]
  },
  {
   "cell_type": "code",
   "execution_count": 17,
   "id": "cb62cee2-4c69-46c9-9720-b71f147136bd",
   "metadata": {},
   "outputs": [],
   "source": [
    "df_P['test7'] = np.where(df_P['test7'].isnull(),df_P['test6'],df_P['test7'])"
   ]
  },
  {
   "cell_type": "code",
   "execution_count": 18,
   "id": "1733e610-2b81-4ca0-81d5-af391d2c64b8",
   "metadata": {},
   "outputs": [],
   "source": [
    "df_P['DiscountedPrice']=df_P['test7'].apply(lambda x:str(x).replace('₹','').replace(',','').replace('Price: Not Available','nan'))\n",
    "#Replacing NAN Values from Price(with discount) column\n",
    "df_P['DiscountedPrice']=df_P['DiscountedPrice'].replace('nan','0')\n",
    "df_P['DiscountedPrice']=df_P['DiscountedPrice'].astype(int)"
   ]
  },
  {
   "cell_type": "code",
   "execution_count": 19,
   "id": "b9f0edb7-dfa5-434d-87f6-ec70c2d0996f",
   "metadata": {},
   "outputs": [],
   "source": [
    "df_P['MaxRetailPrice'] = (df_P.DiscountedPrice + ((df_P.OfferInPerentage/100) * df_P.DiscountedPrice))\n",
    "df_P['MaxRetailPrice']=df_P['MaxRetailPrice'].round(0)"
   ]
  },
  {
   "cell_type": "code",
   "execution_count": 20,
   "id": "a89252c2-7526-4db2-bb6f-7b5bedd39e9a",
   "metadata": {},
   "outputs": [],
   "source": [
    "df_P['Sales(₹ CR)']=(df_P.DiscountedPrice * df_P.MobilesSold )/10000000\n",
    "df_P['Sales(₹ CR)']=df_P['Sales(₹ CR)'].round(2)"
   ]
  },
  {
   "cell_type": "code",
   "execution_count": 21,
   "id": "9d8d0cd7-dc2f-40e0-89ae-084f6370bd00",
   "metadata": {},
   "outputs": [],
   "source": [
    "df_P['test8']= df_P['Specifications'].str.split('|'and'ROM').str[0]\n",
    "df_P[['RAM(GB)','ROM(GB)']]= df_P['test8'].str.split('|',expand = True) \n",
    "df_P['RAM(GB)']=df_P['RAM(GB)'].apply(lambda x:str(x).replace('GB','').replace('RAM',''))\n",
    "df_P['ROM(GB)']=df_P['ROM(GB)'].str.replace('GB','')"
   ]
  },
  {
   "cell_type": "code",
   "execution_count": 22,
   "id": "c1e2a79a-a31e-45b8-bb60-f360e7348f86",
   "metadata": {},
   "outputs": [],
   "source": [
    "df_P['Display']= df_P['Specifications'].str.extract('\\((.*?)\\)')\n",
    "df_P['Display']=df_P['Display'].str.replace('inch','')"
   ]
  },
  {
   "cell_type": "code",
   "execution_count": 23,
   "id": "65983df7-bb46-4fce-a223-c48f453e81c4",
   "metadata": {},
   "outputs": [],
   "source": [
    "df_P['Screen']=df_P['Specifications'].str.extract('(Quad HD+|HD+|Full HD+ AMOLED|QGVA|AMOLED)')\n",
    "df_P['Screen']=df_P['Screen'].fillna(\"Not Mentioned\")"
   ]
  },
  {
   "cell_type": "code",
   "execution_count": 24,
   "id": "83e07bd5-f283-4970-9e9b-678d8de5900e",
   "metadata": {},
   "outputs": [],
   "source": [
    "df_P['test9']= df_P['Specifications'].apply(lambda x: x[x.find(\"Display\"):x.find(\"Front\")])"
   ]
  },
  {
   "cell_type": "code",
   "execution_count": 25,
   "id": "b24fc455-1c44-415d-a144-be24a614343b",
   "metadata": {},
   "outputs": [],
   "source": [
    "df_P['test9']=df_P['test9'].apply(lambda x:x[x.find(\"Display\"):x.find(\"Dual\")])\n",
    "df_P['test9']=df_P['test9'].apply(lambda x:x[x.find(\"Display\"):x.find(\"Rear\")])"
   ]
  },
  {
   "cell_type": "code",
   "execution_count": 26,
   "id": "fa53f144-ada2-499b-9a1d-4354cafd0880",
   "metadata": {},
   "outputs": [],
   "source": [
    "df_P['test10'] = df_P['test9'].apply(lambda x:str(x).replace('Display','').replace('+',''))"
   ]
  },
  {
   "cell_type": "code",
   "execution_count": 27,
   "id": "81533e50-1b58-4eb2-b5e9-45f286c7491f",
   "metadata": {},
   "outputs": [],
   "source": [
    "df_P[['Rear Camera','Front Camera']]= df_P['test10'].str.split('|',expand = True)"
   ]
  },
  {
   "cell_type": "code",
   "execution_count": 28,
   "id": "f03fd439-cb26-4e63-b135-552a3476df28",
   "metadata": {},
   "outputs": [],
   "source": [
    "df_P['No of Rear Camera']= df_P['Rear Camera'].str.count(\"MP\")\n",
    "df_P['No of Front Camera']= df_P['Front Camera'].str.count(\"MP\")\n",
    "df_P['No of Front Camera']= df_P['No of Front Camera'].fillna(0)"
   ]
  },
  {
   "cell_type": "code",
   "execution_count": 29,
   "id": "23fa75eb-3774-4ac1-ae63-5af093a8788b",
   "metadata": {},
   "outputs": [],
   "source": [
    "df_P['Battery']= df_P['Specifications'].str.extract('(\\d{4} mAh)')\n",
    "df_P['Battery']=df_P['Battery'].apply(lambda x: str(x).replace('mAh',''))"
   ]
  },
  {
   "cell_type": "code",
   "execution_count": 30,
   "id": "5cbb3469-1157-4d4b-bee3-c80d5fa508b9",
   "metadata": {},
   "outputs": [],
   "source": [
    "df_P['Processor']= df_P['Specifications'].str.extract('(Exynos|Mediatek|Snapdragon|Octa Core|208MHz|8 Gen 1|UMS9230|quad core|Helio)')\n",
    "df_P['Processor']=df_P['Processor'].fillna(\"Not Mentioned\")"
   ]
  },
  {
   "cell_type": "code",
   "execution_count": 31,
   "id": "20132e9a-fc8c-4d44-8097-531102a9c17a",
   "metadata": {},
   "outputs": [],
   "source": [
    "# drop all test columns and unwanted columns\n",
    "df_P.drop(columns=['test','test1','test2','test3','test4','test5','test6','test7','test8','test9','test10','Company Name','Ratings','Specifications','Mobile Price','offer'],inplace=True,axis=1)"
   ]
  },
  {
   "cell_type": "code",
   "execution_count": 32,
   "id": "2d84c6a8-34c1-4c67-b2e2-f1801c73b01f",
   "metadata": {},
   "outputs": [],
   "source": [
    "df_P.to_csv('E:/NewDrive/DataScienceProjects/DataSets/Flipkart_dataset/POCOCleaned.csv',index=False)"
   ]
  },
  {
   "cell_type": "code",
   "execution_count": null,
   "id": "8333ed5d-d22d-4d72-a660-166ef1f51030",
   "metadata": {},
   "outputs": [],
   "source": []
  }
 ],
 "metadata": {
  "kernelspec": {
   "display_name": "Python 3 (ipykernel)",
   "language": "python",
   "name": "python3"
  },
  "language_info": {
   "codemirror_mode": {
    "name": "ipython",
    "version": 3
   },
   "file_extension": ".py",
   "mimetype": "text/x-python",
   "name": "python",
   "nbconvert_exporter": "python",
   "pygments_lexer": "ipython3",
   "version": "3.11.4"
  }
 },
 "nbformat": 4,
 "nbformat_minor": 5
}
