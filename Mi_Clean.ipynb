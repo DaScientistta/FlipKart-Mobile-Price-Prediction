{
 "cells": [
  {
   "cell_type": "code",
   "execution_count": 34,
   "id": "df37f229-8acc-46f5-a3d9-739487a321f0",
   "metadata": {},
   "outputs": [],
   "source": [
    "import pandas as pd\n",
    "import numpy as np\n",
    "import re"
   ]
  },
  {
   "cell_type": "code",
   "execution_count": 35,
   "id": "c7a09c1e-0bd3-4c59-97ca-4a94bbd01a2b",
   "metadata": {},
   "outputs": [],
   "source": [
    "df = pd.read_csv('E:/NewDrive/DataScienceProjects/DataSets/Flipkart_dataset/Mi_new.csv')"
   ]
  },
  {
   "cell_type": "code",
   "execution_count": 36,
   "id": "1915934f-d8b7-4ef6-8ba5-ee25065e6820",
   "metadata": {},
   "outputs": [
    {
     "data": {
      "text/plain": [
       "40"
      ]
     },
     "execution_count": 36,
     "metadata": {},
     "output_type": "execute_result"
    }
   ],
   "source": [
    "df.duplicated().sum()"
   ]
  },
  {
   "cell_type": "code",
   "execution_count": 37,
   "id": "0fae9703-69e8-4519-8ff9-74f9defd6dd3",
   "metadata": {},
   "outputs": [],
   "source": [
    "df_M= df.drop_duplicates()"
   ]
  },
  {
   "cell_type": "code",
   "execution_count": 38,
   "id": "18e66b2b-4051-4d0b-9b79-edebf25fc834",
   "metadata": {},
   "outputs": [
    {
     "data": {
      "text/plain": [
       "(350, 5)"
      ]
     },
     "execution_count": 38,
     "metadata": {},
     "output_type": "execute_result"
    }
   ],
   "source": [
    "df_M.shape"
   ]
  },
  {
   "cell_type": "code",
   "execution_count": 39,
   "id": "a8a2bb65-069e-440f-b8b1-2cc88979e545",
   "metadata": {},
   "outputs": [],
   "source": [
    "pd.options.mode.chained_assignment = None  # default='warn'"
   ]
  },
  {
   "cell_type": "code",
   "execution_count": 40,
   "id": "1f0265e3-7a44-46f7-9db6-47dda809bc44",
   "metadata": {},
   "outputs": [],
   "source": [
    "df_M['Name']=df_M['Company Name'].str.extract('(Xiaomi|REDMI|Mi|Redmi)')\n",
    "df_M['Name']=df_M['Name'].replace('REDMI','Redmi')\n",
    "df_M['Name'].replace('', np.nan, inplace=True)\n",
    "df_M.dropna(subset=['Name'], inplace=True)"
   ]
  },
  {
   "cell_type": "code",
   "execution_count": 41,
   "id": "b9a45daa-764c-48ef-87dc-af89aa9a7af4",
   "metadata": {},
   "outputs": [],
   "source": [
    "df_M['test'] = df_M['Company Name'].str.extract('(\\([^)]*\\,)')\n",
    "df_M['test1']=df_M['test'].astype(str)\n",
    "df_M['Color'] = df_M['test1'].apply(lambda x: x.replace('(','').replace(',',''))"
   ]
  },
  {
   "cell_type": "code",
   "execution_count": 42,
   "id": "c594285d-762f-4d49-b763-0068530760f0",
   "metadata": {},
   "outputs": [],
   "source": [
    "df_M['test2'] = df_M['Company Name'].str.split('(').str[0]\n",
    "df_M['Model']= df_M['test2'].str.split().str[1:].str.join(' ')"
   ]
  },
  {
   "cell_type": "code",
   "execution_count": 43,
   "id": "7c6fc830-38da-4c8a-948e-0b552272d21c",
   "metadata": {},
   "outputs": [],
   "source": [
    "def match(x):\n",
    "    if re.search(\"Ratings\",x):\n",
    "        return x\n",
    "    else:\n",
    "        return \"0\""
   ]
  },
  {
   "cell_type": "code",
   "execution_count": 44,
   "id": "6fc8b686-ff98-4881-83a0-cff2a8e30531",
   "metadata": {},
   "outputs": [],
   "source": [
    "df_M['test3']=df_M['Ratings'].apply(match)\n",
    "df_M['test5']=df_M['test3'].apply(lambda x: x[x.find(\"SAMSUNG\") : x.find(\"Ratings\")])\n",
    "df_M['Ratings(*)']=df_M['test3'].str.extract('(4\\.\\d|3\\.\\d)')\n",
    "df_M['Ratings(*)']=df_M['Ratings(*)'].fillna(0)"
   ]
  },
  {
   "cell_type": "code",
   "execution_count": 45,
   "id": "0dddf332-70d7-43b5-814d-4b7ace61e7be",
   "metadata": {},
   "outputs": [],
   "source": [
    "df_M['test4']=df_M['test3'].apply(lambda x: x[x.find(\"Ratings\") : x.find(\"Reviews\")])\n",
    "df_M['Reviews']=df_M['test4'].apply(lambda x: x.replace('Ratings','').replace('&','').replace(',',''))\n",
    "df_M['Reviews']=df_M['Reviews'].str.strip()"
   ]
  },
  {
   "cell_type": "code",
   "execution_count": 46,
   "id": "5ada41e4-befb-42a1-82d6-effd1ed9b718",
   "metadata": {},
   "outputs": [],
   "source": [
    "def remove_whitespace(s):\n",
    "    return ' '.join(s.split())"
   ]
  },
  {
   "cell_type": "code",
   "execution_count": 47,
   "id": "82853f82-c74f-40a2-a6ca-9afba0fb2e87",
   "metadata": {},
   "outputs": [],
   "source": [
    "df_M['MobilesSold']=df_M['Reviews'].apply(remove_whitespace)\n",
    "df_M['MobilesSold']=df_M['MobilesSold'].replace('','0')\n",
    "df_M['MobilesSold']=df_M['MobilesSold'].astype(int)"
   ]
  },
  {
   "cell_type": "code",
   "execution_count": 48,
   "id": "e4bdde83-720a-4e42-b671-b93c17d026ba",
   "metadata": {},
   "outputs": [],
   "source": [
    "df_M['test6']=df_M['Mobile Price'].apply(lambda x: x.replace('%','').replace('offFree','').replace('delivery','').replace('off','').replace('Free delivery','').replace('Free',''))"
   ]
  },
  {
   "cell_type": "code",
   "execution_count": 49,
   "id": "3705f821-461d-4783-813e-eb736a750c62",
   "metadata": {},
   "outputs": [],
   "source": [
    "df_M['OfferInPerentage'] =df_M['offer'].str.extract('(\\d+)')\n",
    "df_M['OfferInPerentage']=df_M['OfferInPerentage'].fillna(0)\n",
    "df_M['OfferInPerentage']=df_M['OfferInPerentage'].astype(int)"
   ]
  },
  {
   "cell_type": "code",
   "execution_count": 50,
   "id": "26be2a26-470d-4579-bfb5-20382fb87ae2",
   "metadata": {},
   "outputs": [],
   "source": [
    "df_M['test7']=df_M['test6'].str.extract('(\\₹[^)]*\\₹)')"
   ]
  },
  {
   "cell_type": "code",
   "execution_count": 51,
   "id": "5d9bf1bb-c9a4-4687-bebe-5eb5f4b40cd0",
   "metadata": {},
   "outputs": [],
   "source": [
    "df_M['test7'] = np.where(df_M['test7'].isnull(),df_M['test6'],df_M['test7'])"
   ]
  },
  {
   "cell_type": "code",
   "execution_count": 52,
   "id": "a09d2b4c-1f0f-437e-8916-840e8e25660c",
   "metadata": {},
   "outputs": [],
   "source": [
    "df_M['DiscountedPrice']=df_M['test7'].apply(lambda x:str(x).replace('₹','').replace(',','').replace('Price: Not Available','nan'))\n",
    "#Replacing NAN Values from Price(with discount) column\n",
    "df_M['DiscountedPrice']=df_M['DiscountedPrice'].replace('nan','0')\n",
    "df_M['DiscountedPrice']=df_M['DiscountedPrice'].astype(int)"
   ]
  },
  {
   "cell_type": "code",
   "execution_count": 53,
   "id": "7b7be7d3-01cc-4cb5-9781-59de6c6f6e21",
   "metadata": {},
   "outputs": [],
   "source": [
    "df_M['MaxRetailPrice'] = (df_M.DiscountedPrice + ((df_M.OfferInPerentage/100) * df_M.DiscountedPrice))\n",
    "df_M['MaxRetailPrice']=df_M['MaxRetailPrice'].round(0)"
   ]
  },
  {
   "cell_type": "code",
   "execution_count": 54,
   "id": "5936a698-0988-42f5-b286-82d6df8918f2",
   "metadata": {},
   "outputs": [],
   "source": [
    "df_M['Sales(₹ CR)']=(df_M.DiscountedPrice*df_M.MobilesSold )/10000000\n",
    "df_M['Sales(₹ CR)']=df_M['Sales(₹ CR)'].round(3)"
   ]
  },
  {
   "cell_type": "code",
   "execution_count": 55,
   "id": "1e98bda6-dab6-4dbe-8989-be4eaf975736",
   "metadata": {},
   "outputs": [],
   "source": [
    "df_M['test8']= df_M['Specifications'].str.split('|'and'ROM').str[0]\n",
    "df_M[['RAM(GB)','ROM(GB)']]= df_M['test8'].str.split('|',expand = True)\n",
    "df_M['RAM(GB)']=df_M['RAM(GB)'].apply(lambda x:str(x).replace('GB','').replace('RAM',''))\n",
    "df_M['ROM(GB)']=df_M['ROM(GB)'].str.replace('GB','')"
   ]
  },
  {
   "cell_type": "code",
   "execution_count": 56,
   "id": "3bffa4f0-1da5-4cc0-bfdc-36ff3163ff05",
   "metadata": {},
   "outputs": [],
   "source": [
    "df_M['Display']= df_M['Specifications'].str.extract('\\((.*?)\\)')\n",
    "df_M['Display']=df_M['Display'].str.replace('inch','')"
   ]
  },
  {
   "cell_type": "code",
   "execution_count": 57,
   "id": "a781e113-156f-4fa7-b964-c46fa5f0a7d9",
   "metadata": {},
   "outputs": [],
   "source": [
    "df_M['Screen']=df_M['Specifications'].str.extract('(Quad HD+|HD+|Full HD+ AMOLED|QGVA|AMOLED)')\n",
    "df_M['Screen']=df_M['Screen'].fillna(\"Not Mentioned\")"
   ]
  },
  {
   "cell_type": "code",
   "execution_count": 58,
   "id": "3df6bb0f-ea60-4b2c-be0d-2b967dac9ace",
   "metadata": {},
   "outputs": [],
   "source": [
    "df_M['test9']= df_M['Specifications'].apply(lambda x: x[x.find(\"Display\"):x.find(\"Front\")])"
   ]
  },
  {
   "cell_type": "code",
   "execution_count": 59,
   "id": "5ceb1e5e-5da4-4c3d-8d02-80ce1585de85",
   "metadata": {},
   "outputs": [],
   "source": [
    "df_M['test10'] = df_M['test9'].apply(lambda x:str(x).replace('Display','').replace('+',''))"
   ]
  },
  {
   "cell_type": "code",
   "execution_count": 60,
   "id": "c710fc29-702a-4aea-aa13-757e83b802ff",
   "metadata": {},
   "outputs": [],
   "source": [
    "df_M[['Rear Camera','Front Camera']]= df_M['test10'].str.split('|',expand = True)"
   ]
  },
  {
   "cell_type": "code",
   "execution_count": 61,
   "id": "16da6e7f-7910-4c03-949e-28a16ba0d3c7",
   "metadata": {},
   "outputs": [],
   "source": [
    "df_M['No of Rear Camera']= df_M['Rear Camera'].str.count(\"MP\")\n",
    "df_M['No of Front Camera']= df_M['Front Camera'].str.count(\"MP\")\n",
    "df_M['No of Front Camera']= df_M['No of Front Camera'].fillna(0)"
   ]
  },
  {
   "cell_type": "code",
   "execution_count": 62,
   "id": "65de835b-37f0-41ca-93fe-7a885768f7ab",
   "metadata": {},
   "outputs": [],
   "source": [
    "df_M['Battery']= df_M['Specifications'].str.extract('(\\d{4} mAh)')\n",
    "df_M['Battery']= df_M['Battery'].apply(lambda x: str(x).replace('mAh',''))"
   ]
  },
  {
   "cell_type": "code",
   "execution_count": 63,
   "id": "aa0284f2-46b8-4278-a22f-3563100793d2",
   "metadata": {},
   "outputs": [],
   "source": [
    "df_M['Processor']= df_M['Specifications'].str.extract('(Exynos|Mediatek|Snapdragon|Octa Core|208MHz|8 Gen 1|UMS9230|quad core)')\n",
    "df_M['Processor']=df_M['Processor'].fillna(\"Not Mentioned\")"
   ]
  },
  {
   "cell_type": "code",
   "execution_count": 64,
   "id": "42cade0d-94cd-477b-9180-697367f20086",
   "metadata": {},
   "outputs": [],
   "source": [
    "# drop all test columns and unwanted columns\n",
    "df_M.drop(columns=['test','test1','test2','test3','test4','test5','test6','test7','test8','test9','test10','Company Name','Ratings','Specifications','Mobile Price','offer'],inplace=True,axis=1)"
   ]
  },
  {
   "cell_type": "code",
   "execution_count": 65,
   "id": "3196702d-f208-4e50-b6a8-4094cd9089a5",
   "metadata": {},
   "outputs": [],
   "source": [
    "df_M.to_csv('E:/NewDrive/DataScienceProjects/DataSets/Flipkart_dataset/MiCleaned.csv',index=False)"
   ]
  },
  {
   "cell_type": "code",
   "execution_count": 66,
   "id": "fdd39a97-eaa8-485e-a80c-722992e558b1",
   "metadata": {},
   "outputs": [],
   "source": [
    "#df_M.head(10)"
   ]
  },
  {
   "cell_type": "code",
   "execution_count": null,
   "id": "9aa56964-646f-424d-8926-5a24e5f0b22d",
   "metadata": {},
   "outputs": [],
   "source": []
  }
 ],
 "metadata": {
  "kernelspec": {
   "display_name": "Python 3 (ipykernel)",
   "language": "python",
   "name": "python3"
  },
  "language_info": {
   "codemirror_mode": {
    "name": "ipython",
    "version": 3
   },
   "file_extension": ".py",
   "mimetype": "text/x-python",
   "name": "python",
   "nbconvert_exporter": "python",
   "pygments_lexer": "ipython3",
   "version": "3.11.4"
  }
 },
 "nbformat": 4,
 "nbformat_minor": 5
}
