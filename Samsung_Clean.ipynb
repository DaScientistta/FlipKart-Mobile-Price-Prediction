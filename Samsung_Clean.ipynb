{
 "cells": [
  {
   "cell_type": "code",
   "execution_count": 2325,
   "id": "1ff82e65-7479-4a2e-971b-b83b05f70882",
   "metadata": {},
   "outputs": [],
   "source": [
    "import pandas as pd\n",
    "import numpy as np\n",
    "import re"
   ]
  },
  {
   "cell_type": "code",
   "execution_count": 2326,
   "id": "2e641e30-b541-4073-9ea0-944b3baac49a",
   "metadata": {},
   "outputs": [],
   "source": [
    "df = pd.read_csv('E:/NewDrive/DataScienceProjects/DataSets/Flipkart_dataset/Samsung_new.csv')"
   ]
  },
  {
   "cell_type": "code",
   "execution_count": 2327,
   "id": "3f4cbfaf-5ebc-4561-b3a1-04995f672239",
   "metadata": {},
   "outputs": [
    {
     "data": {
      "text/plain": [
       "51"
      ]
     },
     "execution_count": 2327,
     "metadata": {},
     "output_type": "execute_result"
    }
   ],
   "source": [
    "df.duplicated().sum()"
   ]
  },
  {
   "cell_type": "code",
   "execution_count": 2328,
   "id": "733b03cc-d8c1-4fc4-9982-9e9a578206e9",
   "metadata": {},
   "outputs": [],
   "source": [
    "df_S= df.drop_duplicates()"
   ]
  },
  {
   "cell_type": "code",
   "execution_count": 2329,
   "id": "d3231947-8f1c-4498-bd60-7f5cb3f9c269",
   "metadata": {},
   "outputs": [
    {
     "data": {
      "text/plain": [
       "(306, 5)"
      ]
     },
     "execution_count": 2329,
     "metadata": {},
     "output_type": "execute_result"
    }
   ],
   "source": [
    "df_S.shape"
   ]
  },
  {
   "cell_type": "code",
   "execution_count": 2330,
   "id": "0bb6251c-4200-4bca-8bcd-6218d76c0af0",
   "metadata": {},
   "outputs": [],
   "source": [
    "pd.options.mode.chained_assignment = None  # default='warn'"
   ]
  },
  {
   "cell_type": "code",
   "execution_count": 2331,
   "id": "458d4644-3b09-4a43-a8c4-410d7cdb65c3",
   "metadata": {},
   "outputs": [],
   "source": [
    "df_S['Name']=df_S['Company Name'].str.extract('(SAMSUNG)')\n",
    "df_S['Name']=df_S['Name'].fillna(\"SAMSUNG\")"
   ]
  },
  {
   "cell_type": "code",
   "execution_count": 2332,
   "id": "3144d124-1c68-4d0a-99ec-2c67bb45b340",
   "metadata": {},
   "outputs": [],
   "source": [
    "df_S['test'] = df_S['Company Name'].str.extract('(\\([^)]*\\,)')\n",
    "df_S['test1']=df_S['test'].astype(str)\n",
    "df_S['Color'] = df_S['test1'].apply(lambda x: x.replace('(','').replace(',','').replace('?','').replace('nan','Not Mentioned'))"
   ]
  },
  {
   "cell_type": "code",
   "execution_count": 2333,
   "id": "034dbef5-4ea9-45b5-9239-dba5914bdca2",
   "metadata": {},
   "outputs": [],
   "source": [
    "df_S['test2'] = df_S['Company Name'].str.split('(').str[0]\n",
    "df_S['Model']= df_S['test2'].str.split().str[1:].str.join(' ')\n",
    "df_S['Model']=df_S['Model'].apply(lambda x : str(x).replace('without charger','').replace('with Snapdragon 888','').replace('- White',''))"
   ]
  },
  {
   "cell_type": "code",
   "execution_count": 2334,
   "id": "aaca98a2-95b1-445a-ae71-64312b08d649",
   "metadata": {},
   "outputs": [],
   "source": [
    "def match(x):\n",
    "    if re.search(\"Ratings\",x):\n",
    "        return x\n",
    "    else:\n",
    "        return \"0\""
   ]
  },
  {
   "cell_type": "code",
   "execution_count": 2335,
   "id": "6a464e32-7d70-42d6-826e-bb65bdc1f5b8",
   "metadata": {},
   "outputs": [],
   "source": [
    "df_S['test3']=df_S['Ratings'].apply(match)\n",
    "df_S['test5']=df_S['test3'].apply(lambda x: x[x.find(\"SAMSUNG\") : x.find(\"Ratings\")])\n",
    "df_S['Ratings(*)']=df_S['test3'].str.extract('(4\\.\\d|3\\.\\d)')\n",
    "df_S['Ratings(*)']=df_S['Ratings(*)'].fillna(0)"
   ]
  },
  {
   "cell_type": "code",
   "execution_count": 2336,
   "id": "3fd90521-e769-4ea6-a8f6-94ff6311c552",
   "metadata": {},
   "outputs": [],
   "source": [
    "df_S['test4']=df_S['test3'].apply(lambda x: x[x.find(\"Ratings\") : x.find(\"Reviews\")])\n",
    "df_S['Reviews']=df_S['test4'].apply(lambda x: x.replace('Ratings','').replace('&','').replace(',',''))\n",
    "df_S['Reviews']=df_S['Reviews'].str.strip()"
   ]
  },
  {
   "cell_type": "code",
   "execution_count": 2337,
   "id": "2417af89-abc0-4eb7-b982-545f298f5d5e",
   "metadata": {},
   "outputs": [],
   "source": [
    "def remove_whitespace(s):\n",
    "    return ' '.join(s.split())"
   ]
  },
  {
   "cell_type": "code",
   "execution_count": 2338,
   "id": "3f00993c-fbf9-4094-a333-e256145d828e",
   "metadata": {},
   "outputs": [],
   "source": [
    "df_S['MobilesSold']=df_S['Reviews'].apply(remove_whitespace)\n",
    "df_S['MobilesSold']=df_S['MobilesSold'].replace('','0')\n",
    "df_S['MobilesSold']=df_S['MobilesSold'].astype(int)"
   ]
  },
  {
   "cell_type": "code",
   "execution_count": 2339,
   "id": "e64b7ffb-ab91-4594-a05d-aa5a27dc7db8",
   "metadata": {},
   "outputs": [],
   "source": [
    "df_S['test6']=df_S['Mobile Price'].apply(lambda x: x.replace('%','').replace('offFree','').replace('delivery','').replace('off','').replace('Free delivery','').replace('Free',''))"
   ]
  },
  {
   "cell_type": "code",
   "execution_count": 2340,
   "id": "85a2c06a-82fa-4e15-8bed-f8f0dc23c2c9",
   "metadata": {},
   "outputs": [],
   "source": [
    "df_S['OfferInPerentage'] =df_S['offer'].str.extract('(\\d+)')\n",
    "df_S['OfferInPerentage']=df_S['OfferInPerentage'].fillna(0)\n",
    "df_S['OfferInPerentage']=df_S['OfferInPerentage'].astype(int)"
   ]
  },
  {
   "cell_type": "code",
   "execution_count": 2341,
   "id": "e912b25b-180b-4cba-9681-776f27476e97",
   "metadata": {},
   "outputs": [],
   "source": [
    "df_S['test7']=df_S['test6'].str.extract('(\\₹[^)]*\\₹)')"
   ]
  },
  {
   "cell_type": "code",
   "execution_count": 2342,
   "id": "e702530c-5113-456f-87b6-4fc6c11ed608",
   "metadata": {},
   "outputs": [],
   "source": [
    "df_S['test7'] = np.where(df_S['test7'].isnull(),df_S['test6'],df_S['test7'])"
   ]
  },
  {
   "cell_type": "code",
   "execution_count": 2343,
   "id": "0b1f09f2-17ad-48f3-acc5-ff5f29fa069f",
   "metadata": {},
   "outputs": [],
   "source": [
    "df_S['DiscountedPrice']=df_S['test7'].apply(lambda x:str(x).replace('₹','').replace(',','').replace('Price: Not Available',''))\n",
    "#Replacing NAN Values from Price(with discount) column\n",
    "df_S['DiscountedPrice']=df_S['DiscountedPrice'].replace('','0')\n",
    "df_S['DiscountedPrice']=df_S['DiscountedPrice'].astype(int)"
   ]
  },
  {
   "cell_type": "code",
   "execution_count": 2344,
   "id": "e44a1aac-fa84-43d7-b7e1-24078b9d9f97",
   "metadata": {},
   "outputs": [],
   "source": [
    "df_S['MaxRetailPrice'] = (df_S.DiscountedPrice + ((df_S.OfferInPerentage/100) * df_S.DiscountedPrice))\n",
    "df_S['MaxRetailPrice']=df_S['MaxRetailPrice'].round(0)"
   ]
  },
  {
   "cell_type": "code",
   "execution_count": 2345,
   "id": "33f6384a-b9d7-4e32-b2de-a17f3d3833af",
   "metadata": {},
   "outputs": [],
   "source": [
    "df_S['Sales(₹ CR)']=(df_S.DiscountedPrice * df_S.MobilesSold )/10000000\n",
    "df_S['Sales(₹ CR)']=df_S['Sales(₹ CR)'].round(3)"
   ]
  },
  {
   "cell_type": "code",
   "execution_count": 2346,
   "id": "2bb91ff1-fc28-4e40-b117-bb4dd6d35079",
   "metadata": {},
   "outputs": [],
   "source": [
    "df_S['test8']= df_S['Specifications'].str.split('|'and'ROM').str[0]\n",
    "df_S[['RAM(GB)','ROM(GB)']]= df_S['test8'].str.split('|',expand = True) "
   ]
  },
  {
   "cell_type": "code",
   "execution_count": 2347,
   "id": "c331b6a3-4954-4136-9bb3-4227277473ef",
   "metadata": {},
   "outputs": [],
   "source": [
    "df_S['RAM(GB)']=df_S['RAM(GB)'].apply(lambda x: str(x).replace('GB','').replace('RAM',''))\n",
    "df_S['RAM(GB)']=df_S['RAM(GB)'].str.replace('NA','Not Mentioned')\n",
    "df_S['ROM(GB)']=df_S['ROM(GB)'].str.replace('GB','')\n",
    "df_S['ROM(GB)']=df_S['ROM(GB)'].fillna(\"Not Mentioned\")"
   ]
  },
  {
   "cell_type": "code",
   "execution_count": 2348,
   "id": "8871f62d-ee9e-4222-876b-a25cf2659d13",
   "metadata": {},
   "outputs": [],
   "source": [
    "df_S['RAM(GB)']=df_S['RAM(GB)'].str.strip()\n",
    "df_S['ROM(GB)']=df_S['ROM(GB)'].str.strip()"
   ]
  },
  {
   "cell_type": "code",
   "execution_count": 2349,
   "id": "b8d66a49-6644-43cb-b594-3c839f2e1e11",
   "metadata": {},
   "outputs": [],
   "source": [
    "def case_1(value):\n",
    "  if value[-2:] == 'MB':\n",
    "    return float(value[:-2])/1000\n",
    "  elif value[-2:] == 'TB':\n",
    "    return float(value[:-2])*1000\n",
    "  else:\n",
    "    return value"
   ]
  },
  {
   "cell_type": "code",
   "execution_count": 2350,
   "id": "6e7f15e7-3f91-414f-ac3c-82cf3f5cc201",
   "metadata": {},
   "outputs": [],
   "source": [
    "df_S['RAM(GB)']=df_S['RAM(GB)'].map(lambda x: case_1(x))\n",
    "df_S['ROM(GB)']=df_S['ROM(GB)'].map(lambda x: case_1(x))"
   ]
  },
  {
   "cell_type": "code",
   "execution_count": 2351,
   "id": "7b67a4f0-11a3-43f0-ab79-700ca63f60fe",
   "metadata": {},
   "outputs": [],
   "source": [
    "df_S['Display']= df_S['Specifications'].str.extract('\\((.*?)\\)')\n",
    "df_S['Display']=df_S['Display'].str.replace('inch','')"
   ]
  },
  {
   "cell_type": "code",
   "execution_count": 2352,
   "id": "153d7165-2d54-4f94-b4df-e106fac7c4ef",
   "metadata": {},
   "outputs": [],
   "source": [
    "df_S['Screen']=df_S['Specifications'].str.extract('(Quad HD+|HD+|Full HD+ AMOLED|QGVA|AMOLED)')\n",
    "df_S['Screen']=df_S['Screen'].fillna(\"Not Mentioned\")"
   ]
  },
  {
   "cell_type": "code",
   "execution_count": 2353,
   "id": "eb9be199-5e80-47c0-854d-9622296dc7e9",
   "metadata": {},
   "outputs": [],
   "source": [
    "def match(x):\n",
    "    if re.search(\"Rear\",x):\n",
    "        return x \n",
    "    elif re.search(\"Front\",x):\n",
    "        return x\n",
    "    else:\n",
    "        return \"Not Mentioned\"    "
   ]
  },
  {
   "cell_type": "code",
   "execution_count": 2354,
   "id": "7c1115e1-bca4-4ec6-ae59-c80508725555",
   "metadata": {},
   "outputs": [],
   "source": [
    " df_S['test9']=df_S['Specifications'].apply(match)"
   ]
  },
  {
   "cell_type": "code",
   "execution_count": 2355,
   "id": "919adcee-13ba-442f-a1c1-4eb7e80e0438",
   "metadata": {},
   "outputs": [],
   "source": [
    "df_S['test9']= df_S['test9'].apply(lambda x: x[x.find(\"Display\"):x.find(\"Front\")])"
   ]
  },
  {
   "cell_type": "code",
   "execution_count": 2356,
   "id": "ea5d1443-ea89-463a-9e37-fd24e7d64b8d",
   "metadata": {},
   "outputs": [],
   "source": [
    "df_S['test9']=df_S['test9'].apply(lambda x:x[x.find(\"Display\"):x.find(\"Rear\")])"
   ]
  },
  {
   "cell_type": "code",
   "execution_count": 2357,
   "id": "3744e77b-dc7b-40d9-ab19-066f1d2b3003",
   "metadata": {},
   "outputs": [],
   "source": [
    "df_S['test10'] = df_S['test9'].apply(lambda x:str(x).replace('Display','').replace('+',''))"
   ]
  },
  {
   "cell_type": "code",
   "execution_count": 2358,
   "id": "980f1b39-f690-408d-b076-7e86a71a5ae7",
   "metadata": {},
   "outputs": [],
   "source": [
    "df_S[['Rear Camera','Front Camera']]= df_S['test10'].str.split('|',expand = True)\n",
    "df_S['Rear Camera']=df_S['Rear Camera'].replace(' 0MP','')\n",
    "df_S['Front Camera']=df_S['Front Camera'].replace(' 0MP','')"
   ]
  },
  {
   "cell_type": "code",
   "execution_count": 2359,
   "id": "01eb8414-57a4-450f-98dd-42f19570e3b6",
   "metadata": {},
   "outputs": [],
   "source": [
    "df_S['No of Rear Camera']= df_S['Rear Camera'].str.count(\"MP\")\n",
    "df_S['No of Front Camera']= df_S['Front Camera'].str.count(\"MP\")\n",
    "df_S['No of Front Camera']= df_S['No of Front Camera'].fillna(0)"
   ]
  },
  {
   "cell_type": "code",
   "execution_count": 2360,
   "id": "23f8e014-8eb1-47ce-8455-08d64c465129",
   "metadata": {},
   "outputs": [],
   "source": [
    "df_S['Battery']= df_S['Specifications'].str.extract('(\\d{4} mAh|\\d{3} mAh)')\n",
    "df_S['Battery']= df_S['Battery'].str.replace('mAh','')"
   ]
  },
  {
   "cell_type": "code",
   "execution_count": 2361,
   "id": "6aa08d17-f43d-4a46-803b-cb096358a7ce",
   "metadata": {},
   "outputs": [],
   "source": [
    "df_S['Processor']= df_S['Specifications'].str.extract('(Exynos|Mediatek|Snapdragon|Octa Core|208MHz|8 Gen 1|UMS9230|quad core|Octa Core)')\n",
    "#df_S['Processor']=df_S['Processor'].replace('nan','NA')\n",
    "df_S['Processor']=df_S['Processor'].fillna(\"Not Mentioned\")"
   ]
  },
  {
   "cell_type": "code",
   "execution_count": 2362,
   "id": "1b5180fb-abd4-42a3-b82c-8bce4e486d69",
   "metadata": {},
   "outputs": [],
   "source": [
    "# drop all test columns and unwanted columns\n",
    "df_S.drop(columns=['test','test1','test2','test3','test4','test5','test6','test7','test8','test9','test10','Company Name','Ratings','Specifications','Mobile Price','offer'],inplace=True,axis=1)"
   ]
  },
  {
   "cell_type": "code",
   "execution_count": 2363,
   "id": "052f0228-1f62-4149-8d5e-c550a60499cc",
   "metadata": {},
   "outputs": [],
   "source": [
    "# value column equals to 0.0\n",
    "indexNames = df_S[(df_S['Model'] == 'Metro 313') & (df_S['Ratings(*)'] =='3.8')].index\n",
    "# Delete these row indexes from dataFramed\n",
    "df_S.drop(indexNames , inplace=True)"
   ]
  },
  {
   "cell_type": "code",
   "execution_count": 2364,
   "id": "024c5d4e-d886-4c7e-b3e4-5cfeb0e078df",
   "metadata": {},
   "outputs": [],
   "source": [
    "df_S.to_csv('E:/NewDrive/DataScienceProjects/DataSets/Flipkart_dataset/SamsungCleaned.csv',index=False)"
   ]
  },
  {
   "cell_type": "code",
   "execution_count": null,
   "id": "5baac660-db55-4120-89eb-94bf92772f49",
   "metadata": {},
   "outputs": [],
   "source": []
  }
 ],
 "metadata": {
  "kernelspec": {
   "display_name": "Python 3 (ipykernel)",
   "language": "python",
   "name": "python3"
  },
  "language_info": {
   "codemirror_mode": {
    "name": "ipython",
    "version": 3
   },
   "file_extension": ".py",
   "mimetype": "text/x-python",
   "name": "python",
   "nbconvert_exporter": "python",
   "pygments_lexer": "ipython3",
   "version": "3.11.4"
  }
 },
 "nbformat": 4,
 "nbformat_minor": 5
}
