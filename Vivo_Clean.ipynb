{
 "cells": [
  {
   "cell_type": "code",
   "execution_count": 1,
   "id": "66f5a6cd-6676-4775-9335-e00300b7fa3e",
   "metadata": {},
   "outputs": [],
   "source": [
    "import pandas as pd\n",
    "import numpy as np\n",
    "import re"
   ]
  },
  {
   "cell_type": "code",
   "execution_count": 2,
   "id": "88d3e66a-d52e-475f-9ed9-792d0a11d331",
   "metadata": {},
   "outputs": [],
   "source": [
    "df=pd.read_csv('E:/NewDrive/DataScienceProjects/DataSets/Flipkart_dataset/Vivo_new.csv')"
   ]
  },
  {
   "cell_type": "code",
   "execution_count": 3,
   "id": "d33d9165-6658-458a-8f84-a51b53a1c197",
   "metadata": {},
   "outputs": [
    {
     "data": {
      "text/plain": [
       "12"
      ]
     },
     "execution_count": 3,
     "metadata": {},
     "output_type": "execute_result"
    }
   ],
   "source": [
    "df.duplicated().sum()"
   ]
  },
  {
   "cell_type": "code",
   "execution_count": 4,
   "id": "2b8de07c-5bde-48d3-9678-513b800b79c9",
   "metadata": {},
   "outputs": [
    {
     "data": {
      "text/plain": [
       "(193, 5)"
      ]
     },
     "execution_count": 4,
     "metadata": {},
     "output_type": "execute_result"
    }
   ],
   "source": [
    "df_V = df.drop_duplicates()\n",
    "df_V.duplicated().sum()\n",
    "df_V.shape"
   ]
  },
  {
   "cell_type": "code",
   "execution_count": 5,
   "id": "ee07dcc9-5028-49d1-b8ab-4a99d3afa7aa",
   "metadata": {},
   "outputs": [
    {
     "data": {
      "text/plain": [
       "Company Name      object\n",
       "Ratings           object\n",
       "Specifications    object\n",
       "Mobile Price      object\n",
       "offer             object\n",
       "dtype: object"
      ]
     },
     "execution_count": 5,
     "metadata": {},
     "output_type": "execute_result"
    }
   ],
   "source": [
    "df_V.dtypes"
   ]
  },
  {
   "cell_type": "code",
   "execution_count": 6,
   "id": "7018b32c-eaa0-4345-8382-f7595db99973",
   "metadata": {},
   "outputs": [],
   "source": [
    "#mobile brand name\n",
    "pd.options.mode.chained_assignment = None  # default='warn'\n",
    "df_V['Name']=df_V['Company Name'].str.extract('(vivo)')"
   ]
  },
  {
   "cell_type": "code",
   "execution_count": 7,
   "id": "9ed7d463-0073-48c4-acbd-65a197fd9934",
   "metadata": {},
   "outputs": [],
   "source": [
    "df_V['test'] = df_V['Company Name'].str.extract('(\\([^)]*\\,)')\n",
    "df_V['test1']=df_V['test'].astype(str)\n",
    "df_V['Color'] = df_V['test1'].apply(lambda x: x.replace('(','').replace(',','').replace('nan','Not Mentioned'))"
   ]
  },
  {
   "cell_type": "code",
   "execution_count": 8,
   "id": "5cd82d69-73a8-4baf-bbd9-345a4d66d7fb",
   "metadata": {},
   "outputs": [],
   "source": [
    "df_V['test2'] = df_V['Company Name'].str.split('(').str[0]\n",
    "df_V['Model']= df_V['test2'].str.split().str[1:].str.join(' ')"
   ]
  },
  {
   "cell_type": "code",
   "execution_count": 9,
   "id": "e52f1ccd-4e3d-4161-9ca6-5bfe5aad91e8",
   "metadata": {},
   "outputs": [],
   "source": [
    "def match(x):\n",
    "    if re.search(\"Ratings\",x):\n",
    "        return x\n",
    "    else:\n",
    "        return \"0\""
   ]
  },
  {
   "cell_type": "code",
   "execution_count": 10,
   "id": "74fa686b-1ea6-46ee-b33c-a5abbda803cf",
   "metadata": {},
   "outputs": [],
   "source": [
    "df_V['test3']=df_V['Ratings'].apply(match)\n",
    "df_V['test5']=df_V['test3'].apply(lambda x: x[x.find(\"vivo\") : x.find(\"Ratings\")])\n",
    "df_V['Ratings(*)']=df_V['test3'].str.extract('(4\\.\\d|3\\.\\d)')"
   ]
  },
  {
   "cell_type": "code",
   "execution_count": 11,
   "id": "23271595-6f1a-47dd-a1c1-dd84657c66fb",
   "metadata": {},
   "outputs": [],
   "source": [
    "df_V['test4']=df_V['test3'].apply(lambda x: x[x.find(\")\")+1:x.find(\"Ratings\")])"
   ]
  },
  {
   "cell_type": "code",
   "execution_count": 12,
   "id": "638bca3b-6a6a-495b-b998-6f27188ed643",
   "metadata": {},
   "outputs": [],
   "source": [
    "df_V['Ratings(*)']=df_V['test4'].str.extract('(4\\.\\d|3\\.\\d)')\n",
    "df_V['Ratings(*)']=df_V['Ratings(*)'].fillna(0)"
   ]
  },
  {
   "cell_type": "code",
   "execution_count": 13,
   "id": "36cd5fd3-93ee-41e0-8cb6-e52776f133d3",
   "metadata": {},
   "outputs": [],
   "source": [
    "df_V['Reviews']=df_V['test4'].str[3:]\n",
    "df_V['MobilesSold']=df_V['Reviews'].str.replace(',','')\n",
    "df_V['MobilesSold']=df_V['MobilesSold'].replace('',0)\n",
    "df_V['MobilesSold']=df_V['MobilesSold'].astype(int)"
   ]
  },
  {
   "cell_type": "code",
   "execution_count": 14,
   "id": "b23fc612-6687-499f-b5e9-07925fe824b4",
   "metadata": {},
   "outputs": [],
   "source": [
    "df_V['OfferInPerentage'] =df_V['offer'].str.extract('(\\d+)')\n",
    "df_V['OfferInPerentage']=df_V['OfferInPerentage'].fillna(0)\n",
    "df_V['OfferInPerentage']=df_V['OfferInPerentage'].astype(int)"
   ]
  },
  {
   "cell_type": "code",
   "execution_count": 15,
   "id": "42846e03-3c7a-46d2-8e57-7a75ca3eacac",
   "metadata": {},
   "outputs": [],
   "source": [
    "df_V['test5']=df_V['Mobile Price'].apply(lambda x: x.replace('%','').replace('offFree','').replace('delivery','').replace('off','').replace('Free delivery','').replace('Free',''))"
   ]
  },
  {
   "cell_type": "code",
   "execution_count": 16,
   "id": "5cf7976e-f8ff-4614-8eae-1d80c8695be8",
   "metadata": {},
   "outputs": [],
   "source": [
    "df_V['test6']=df_V['test5'].str.extract('(\\₹[^)]*\\₹)')"
   ]
  },
  {
   "cell_type": "code",
   "execution_count": 17,
   "id": "a8712700-1793-4e29-a6dc-8499f1143775",
   "metadata": {},
   "outputs": [],
   "source": [
    "df_V['DiscountedPrice']=df_V['test6'].apply(lambda x:str(x).replace('₹','').replace(',',''))\n",
    "#Replacing NAN Values from Price(with discount) column\n",
    "df_V['DiscountedPrice']=df_V['DiscountedPrice'].replace('nan','0')\n",
    "df_V['DiscountedPrice']=df_V['DiscountedPrice'].astype(int)"
   ]
  },
  {
   "cell_type": "code",
   "execution_count": 18,
   "id": "11499706-3066-4dab-8912-4be564879a11",
   "metadata": {},
   "outputs": [],
   "source": [
    "df_V['MaxRetailPrice'] = df_V.DiscountedPrice + (df_V.OfferInPerentage/100 * df_V.DiscountedPrice)"
   ]
  },
  {
   "cell_type": "code",
   "execution_count": 19,
   "id": "48050531-2ec3-4c19-8e42-91b14bc25fbe",
   "metadata": {},
   "outputs": [],
   "source": [
    "df_V['Sales(₹ CR)']= round((df_V.DiscountedPrice*df_V.MobilesSold)/10000000,2)"
   ]
  },
  {
   "cell_type": "code",
   "execution_count": 20,
   "id": "69a4fba9-7e2f-44f1-84cf-13ee76974c0c",
   "metadata": {},
   "outputs": [],
   "source": [
    "df_V['test7']= df_V['Specifications'].str.split('|'and'ROM').str[0]\n",
    "df_V[['RAM(GB)','ROM(GB)']]= df_V['test7'].str.split('|',expand = True) \n",
    "df_V['RAM(GB)']=df_V['RAM(GB)'].apply(lambda x: str(x).replace('GB RAM',''))\n",
    "df_V['ROM(GB)']=df_V['ROM(GB)'].apply(lambda x: str(x).replace('GB',''))"
   ]
  },
  {
   "cell_type": "code",
   "execution_count": 21,
   "id": "c47c0140-138c-4827-942c-ca342617f7cc",
   "metadata": {},
   "outputs": [],
   "source": [
    "df_V['Display']= df_V['Specifications'].str.extract('\\((.*?)\\)')\n",
    "df_V['Display']=df_V['Display'].apply(lambda x: str(x).replace('inch','').replace('Inch',''))"
   ]
  },
  {
   "cell_type": "code",
   "execution_count": 22,
   "id": "cbc8ccc8-b5d3-4339-ae67-898f638a81e8",
   "metadata": {},
   "outputs": [],
   "source": [
    "df_V['Screen']=df_V['Specifications'].str.extract('(Full HD|HD|Full HD+ AMOLED)')\n",
    "df_V['Screen']=df_V['Screen'].fillna(\"Not Mentioned\")"
   ]
  },
  {
   "cell_type": "code",
   "execution_count": 23,
   "id": "13550615-f92d-493e-84c8-f3d7e624871d",
   "metadata": {},
   "outputs": [],
   "source": [
    "df_V['test8']= df_V['Specifications'].apply(lambda x: x[x.find(\"Display\"):x.find(\"Front\")])"
   ]
  },
  {
   "cell_type": "code",
   "execution_count": 24,
   "id": "0d284992-c7d5-4350-b090-0af85c5a09eb",
   "metadata": {},
   "outputs": [],
   "source": [
    "df_V['test9'] = df_V['test8'].apply(lambda x:str(x).replace('Display','').replace('+',''))"
   ]
  },
  {
   "cell_type": "code",
   "execution_count": 25,
   "id": "5c55df04-b997-43a3-a792-ae5eb3510d01",
   "metadata": {},
   "outputs": [],
   "source": [
    "df_V[['Rear Camera','Front Camera']]= df_V['test9'].str.split('|',expand = True)"
   ]
  },
  {
   "cell_type": "code",
   "execution_count": 26,
   "id": "dadbb688-791d-422a-8e03-13ba00c5fe2a",
   "metadata": {},
   "outputs": [],
   "source": [
    "df_V['No of Rear Camera']= df_V['Rear Camera'].str.count(\"MP\")\n",
    "df_V['No of Front Camera']= df_V['Front Camera'].str.count(\"MP\")\n",
    "df_V['No of Front Camera']= df_V['No of Front Camera'].fillna(0)"
   ]
  },
  {
   "cell_type": "code",
   "execution_count": 27,
   "id": "0a2da948-39ab-48a4-9f1f-b65b94e3a65f",
   "metadata": {},
   "outputs": [],
   "source": [
    "df_V['Battery']= df_V['Specifications'].str.extract('(\\d{4} mAh)')\n",
    "df_V['Battery']=df_V['Battery'].apply(lambda x: str(x).replace('mAh',''))"
   ]
  },
  {
   "cell_type": "code",
   "execution_count": 28,
   "id": "e84fd841-1fc2-4331-9e3c-fdbba1a618e3",
   "metadata": {},
   "outputs": [],
   "source": [
    "df_V['Processor']= df_V['Specifications'].str.extract('(Snapdragon 695|Dimensity 6020|Mediatek Dimensity 7200|Helio P35|Helio G85|Mediatek Dimensity 1200)')\n",
    "df_V['Processor']=df_V['Processor'].fillna(\"Not Mentioned\")"
   ]
  },
  {
   "cell_type": "code",
   "execution_count": 29,
   "id": "7af6fcbe-de07-429a-acff-412db2f619c7",
   "metadata": {},
   "outputs": [],
   "source": [
    "# drop all test columns and unwanted columns\n",
    "df_V.drop(columns=['test','test1','test2','test3','test4','test5','test6','test7','test8','test9','Company Name','Ratings','Specifications','Mobile Price','offer'],inplace=True,axis=1)"
   ]
  },
  {
   "cell_type": "code",
   "execution_count": 30,
   "id": "e259ea36-cac9-4fc8-acee-175f3b9a4212",
   "metadata": {},
   "outputs": [],
   "source": [
    "#df_V.rename(columns = {'prrice':'Price'}, inplace = True)\n",
    "#df_V.head(5)\n",
    "#df_V.iloc[0:0]\n",
    "#df_V.dtypes\n",
    "#df_V.drop(columns=['Sales(₹ CR)'],axis=1,inplace=True)\n",
    "df_V.to_csv('E:/NewDrive/DataScienceProjects/DataSets/Flipkart_dataset/VivoCleaned.csv',index=False)"
   ]
  },
  {
   "cell_type": "code",
   "execution_count": null,
   "id": "0ab7dffb-368d-4434-96dd-a76bbbe0a72b",
   "metadata": {},
   "outputs": [],
   "source": []
  },
  {
   "cell_type": "code",
   "execution_count": null,
   "id": "73ef16c5-3efa-46eb-a7ef-6159cdec1c4b",
   "metadata": {},
   "outputs": [],
   "source": []
  }
 ],
 "metadata": {
  "kernelspec": {
   "display_name": "Python 3 (ipykernel)",
   "language": "python",
   "name": "python3"
  },
  "language_info": {
   "codemirror_mode": {
    "name": "ipython",
    "version": 3
   },
   "file_extension": ".py",
   "mimetype": "text/x-python",
   "name": "python",
   "nbconvert_exporter": "python",
   "pygments_lexer": "ipython3",
   "version": "3.11.4"
  }
 },
 "nbformat": 4,
 "nbformat_minor": 5
}
